{
 "cells": [
  {
   "cell_type": "markdown",
   "metadata": {},
   "source": [
    "# COMP 4151 - Assignment 5\n",
    "\n",
    "## Due: 10/29/2019 at 11:59PM"
   ]
  },
  {
   "cell_type": "markdown",
   "metadata": {},
   "source": [
    "## Name:"
   ]
  },
  {
   "cell_type": "markdown",
   "metadata": {},
   "source": [
    "**Note**: \n",
    "\n",
    "- All work in this assignment must be done, created, originated from each student. \n",
    "- All external assistance must be explicitly mentioned and cited. \n",
    "- Using work done by others without explicit citation is considered cheating. \n",
    "- A student will receive a zero grade on the assignment for cheating. \n",
    "- Repeated offence will lead to additional consequences."
   ]
  },
  {
   "cell_type": "markdown",
   "metadata": {},
   "source": [
    "This assignment focuses on the first phase of the project.  The dataset can be obtained here: https://umdrive.memphis.edu/vphan/public/4151/BCHI-dataset_2019-03-04.csv\n",
    "\n",
    "Give comprehensive answers to these questions, as much as, possible.  When you answer a question, your answer should be in English. At the same time, if applicable, the answer should consist Python code that shows how you obtain your answer.  People should be able to read and understand your answer without guessing on your behalf how to get the answer.\n",
    "\n",
    "1. What is the Indicator attribute?\n",
    "2. How many categories of Indicator are there?\n",
    "3. Explain the \"Value\" value of row 26382 in this dataset.\n",
    "4. Explain the \"Value\" value of row 7833.\n",
    "5. Explain the \"Value\" value of row 10682.  What does it mean that the \"Sex\" value is \"Both\"?\n",
    "6. Explain the \"Value\" value of row 26701.\n",
    "7. Specifically, which factors does the indicator category 'Social and Economic Factors' consist of?\n",
    "8. Visualize (e.g. with seaborn) the suicide rate of some specific race in the 3 most populous and 3 least populous cities over the period of the seven years.  Explain in English each step, and show your Python code of each step."
   ]
  },
  {
   "cell_type": "markdown",
   "metadata": {},
   "source": [
    "# About the Dataset: https://www.bigcitieshealth.org/bchi-about"
   ]
  },
  {
   "cell_type": "markdown",
   "metadata": {},
   "source": [
    "FAQ: https://www.bigcitieshealth.org/bchi-faq-1\n",
    "\n",
    "Methodology/Description of Indicator Categories: https://www.bigcitieshealth.org/methodology"
   ]
  },
  {
   "cell_type": "code",
   "execution_count": 1,
   "metadata": {},
   "outputs": [],
   "source": [
    "import pandas\n",
    "df = pandas.read_csv('/Users/XinJu/Desktop/Fall 2019/COMP 4151/Datasets/BCHI-dataset_2019-03-04.csv')"
   ]
  },
  {
   "cell_type": "code",
   "execution_count": 2,
   "metadata": {},
   "outputs": [
    {
     "data": {
      "text/html": [
       "<div>\n",
       "<style scoped>\n",
       "    .dataframe tbody tr th:only-of-type {\n",
       "        vertical-align: middle;\n",
       "    }\n",
       "\n",
       "    .dataframe tbody tr th {\n",
       "        vertical-align: top;\n",
       "    }\n",
       "\n",
       "    .dataframe thead th {\n",
       "        text-align: right;\n",
       "    }\n",
       "</style>\n",
       "<table border=\"1\" class=\"dataframe\">\n",
       "  <thead>\n",
       "    <tr style=\"text-align: right;\">\n",
       "      <th></th>\n",
       "      <th>Indicator Category</th>\n",
       "      <th>Indicator</th>\n",
       "      <th>Year</th>\n",
       "      <th>Sex</th>\n",
       "      <th>Race/Ethnicity</th>\n",
       "      <th>Value</th>\n",
       "      <th>Place</th>\n",
       "      <th>BCHC Requested Methodology</th>\n",
       "      <th>Source</th>\n",
       "      <th>Methods</th>\n",
       "      <th>Notes</th>\n",
       "      <th>90% Confidence Level - Low</th>\n",
       "      <th>90% Confidence Level - High</th>\n",
       "      <th>95% Confidence Level - Low</th>\n",
       "      <th>95% Confidence Level - High</th>\n",
       "    </tr>\n",
       "  </thead>\n",
       "  <tbody>\n",
       "    <tr>\n",
       "      <td>0</td>\n",
       "      <td>Behavioral Health/Substance Abuse</td>\n",
       "      <td>Opioid-Related Unintentional Drug Overdose Mor...</td>\n",
       "      <td>2010</td>\n",
       "      <td>Both</td>\n",
       "      <td>All</td>\n",
       "      <td>1.7</td>\n",
       "      <td>Washington, DC</td>\n",
       "      <td>Age-Adjusted rate of opioid-related mortality ...</td>\n",
       "      <td>D.C. Department of Health, Center for Policy, ...</td>\n",
       "      <td>NaN</td>\n",
       "      <td>This indicator is not exclusive of other drugs...</td>\n",
       "      <td>NaN</td>\n",
       "      <td>NaN</td>\n",
       "      <td>NaN</td>\n",
       "      <td>NaN</td>\n",
       "    </tr>\n",
       "    <tr>\n",
       "      <td>1</td>\n",
       "      <td>Behavioral Health/Substance Abuse</td>\n",
       "      <td>Opioid-Related Unintentional Drug Overdose Mor...</td>\n",
       "      <td>2010</td>\n",
       "      <td>Both</td>\n",
       "      <td>All</td>\n",
       "      <td>2.2</td>\n",
       "      <td>Fort Worth (Tarrant County), TX</td>\n",
       "      <td>Age-adjusted rate of opioid-related mortality ...</td>\n",
       "      <td>National Center for Health Statistics</td>\n",
       "      <td>NaN</td>\n",
       "      <td>This indicator is not exclusive of other drugs...</td>\n",
       "      <td>NaN</td>\n",
       "      <td>NaN</td>\n",
       "      <td>1.5</td>\n",
       "      <td>3.0</td>\n",
       "    </tr>\n",
       "    <tr>\n",
       "      <td>2</td>\n",
       "      <td>Behavioral Health/Substance Abuse</td>\n",
       "      <td>Opioid-Related Unintentional Drug Overdose Mor...</td>\n",
       "      <td>2010</td>\n",
       "      <td>Both</td>\n",
       "      <td>All</td>\n",
       "      <td>2.3</td>\n",
       "      <td>Oakland (Alameda County), CA</td>\n",
       "      <td>Age-adjusted rate of opioid-related mortality ...</td>\n",
       "      <td>CDC Wonder</td>\n",
       "      <td>Age-adjusted rate of opioid-related mortality ...</td>\n",
       "      <td>Data is for Alameda County. This indicator is ...</td>\n",
       "      <td>NaN</td>\n",
       "      <td>NaN</td>\n",
       "      <td>1.6</td>\n",
       "      <td>3.2</td>\n",
       "    </tr>\n",
       "    <tr>\n",
       "      <td>3</td>\n",
       "      <td>Behavioral Health/Substance Abuse</td>\n",
       "      <td>Opioid-Related Unintentional Drug Overdose Mor...</td>\n",
       "      <td>2010</td>\n",
       "      <td>Both</td>\n",
       "      <td>All</td>\n",
       "      <td>3.0</td>\n",
       "      <td>San Antonio, TX</td>\n",
       "      <td>Age-adjusted rate of opioid-related mortality ...</td>\n",
       "      <td>CDC Wonder</td>\n",
       "      <td>NaN</td>\n",
       "      <td>This indicator is not exclusive of other drugs...</td>\n",
       "      <td>NaN</td>\n",
       "      <td>NaN</td>\n",
       "      <td>2.2</td>\n",
       "      <td>3.9</td>\n",
       "    </tr>\n",
       "    <tr>\n",
       "      <td>4</td>\n",
       "      <td>Behavioral Health/Substance Abuse</td>\n",
       "      <td>Opioid-Related Unintentional Drug Overdose Mor...</td>\n",
       "      <td>2010</td>\n",
       "      <td>Both</td>\n",
       "      <td>All</td>\n",
       "      <td>4.4</td>\n",
       "      <td>U.S. Total, U.S. Total</td>\n",
       "      <td>Age-Adjusted rate of opioid-related mortality ...</td>\n",
       "      <td>CDC WONDER</td>\n",
       "      <td>NaN</td>\n",
       "      <td>This indicator is not exclusive of other drugs...</td>\n",
       "      <td>NaN</td>\n",
       "      <td>NaN</td>\n",
       "      <td>4.4</td>\n",
       "      <td>4.5</td>\n",
       "    </tr>\n",
       "  </tbody>\n",
       "</table>\n",
       "</div>"
      ],
      "text/plain": [
       "                  Indicator Category  \\\n",
       "0  Behavioral Health/Substance Abuse   \n",
       "1  Behavioral Health/Substance Abuse   \n",
       "2  Behavioral Health/Substance Abuse   \n",
       "3  Behavioral Health/Substance Abuse   \n",
       "4  Behavioral Health/Substance Abuse   \n",
       "\n",
       "                                           Indicator  Year   Sex  \\\n",
       "0  Opioid-Related Unintentional Drug Overdose Mor...  2010  Both   \n",
       "1  Opioid-Related Unintentional Drug Overdose Mor...  2010  Both   \n",
       "2  Opioid-Related Unintentional Drug Overdose Mor...  2010  Both   \n",
       "3  Opioid-Related Unintentional Drug Overdose Mor...  2010  Both   \n",
       "4  Opioid-Related Unintentional Drug Overdose Mor...  2010  Both   \n",
       "\n",
       "  Race/Ethnicity  Value                            Place  \\\n",
       "0            All    1.7                   Washington, DC   \n",
       "1            All    2.2  Fort Worth (Tarrant County), TX   \n",
       "2            All    2.3     Oakland (Alameda County), CA   \n",
       "3            All    3.0                  San Antonio, TX   \n",
       "4            All    4.4           U.S. Total, U.S. Total   \n",
       "\n",
       "                          BCHC Requested Methodology  \\\n",
       "0  Age-Adjusted rate of opioid-related mortality ...   \n",
       "1  Age-adjusted rate of opioid-related mortality ...   \n",
       "2  Age-adjusted rate of opioid-related mortality ...   \n",
       "3  Age-adjusted rate of opioid-related mortality ...   \n",
       "4  Age-Adjusted rate of opioid-related mortality ...   \n",
       "\n",
       "                                              Source  \\\n",
       "0  D.C. Department of Health, Center for Policy, ...   \n",
       "1              National Center for Health Statistics   \n",
       "2                                         CDC Wonder   \n",
       "3                                         CDC Wonder   \n",
       "4                                         CDC WONDER   \n",
       "\n",
       "                                             Methods  \\\n",
       "0                                                NaN   \n",
       "1                                                NaN   \n",
       "2  Age-adjusted rate of opioid-related mortality ...   \n",
       "3                                                NaN   \n",
       "4                                                NaN   \n",
       "\n",
       "                                               Notes  \\\n",
       "0  This indicator is not exclusive of other drugs...   \n",
       "1  This indicator is not exclusive of other drugs...   \n",
       "2  Data is for Alameda County. This indicator is ...   \n",
       "3  This indicator is not exclusive of other drugs...   \n",
       "4  This indicator is not exclusive of other drugs...   \n",
       "\n",
       "   90% Confidence Level - Low  90% Confidence Level - High  \\\n",
       "0                         NaN                          NaN   \n",
       "1                         NaN                          NaN   \n",
       "2                         NaN                          NaN   \n",
       "3                         NaN                          NaN   \n",
       "4                         NaN                          NaN   \n",
       "\n",
       "   95% Confidence Level - Low  95% Confidence Level - High  \n",
       "0                         NaN                          NaN  \n",
       "1                         1.5                          3.0  \n",
       "2                         1.6                          3.2  \n",
       "3                         2.2                          3.9  \n",
       "4                         4.4                          4.5  "
      ]
     },
     "execution_count": 2,
     "metadata": {},
     "output_type": "execute_result"
    }
   ],
   "source": [
    "df.head(5)"
   ]
  },
  {
   "cell_type": "code",
   "execution_count": 3,
   "metadata": {},
   "outputs": [
    {
     "data": {
      "text/plain": [
       "Index(['Indicator Category', 'Indicator', 'Year', 'Sex', 'Race/Ethnicity',\n",
       "       'Value', 'Place', 'BCHC Requested Methodology', 'Source', 'Methods',\n",
       "       'Notes', '90% Confidence Level - Low', '90% Confidence Level - High',\n",
       "       '95% Confidence Level - Low', '95% Confidence Level - High'],\n",
       "      dtype='object')"
      ]
     },
     "execution_count": 3,
     "metadata": {},
     "output_type": "execute_result"
    }
   ],
   "source": [
    "df.columns #Find all variables"
   ]
  },
  {
   "cell_type": "code",
   "execution_count": 16,
   "metadata": {},
   "outputs": [
    {
     "data": {
      "text/html": [
       "<div>\n",
       "<style scoped>\n",
       "    .dataframe tbody tr th:only-of-type {\n",
       "        vertical-align: middle;\n",
       "    }\n",
       "\n",
       "    .dataframe tbody tr th {\n",
       "        vertical-align: top;\n",
       "    }\n",
       "\n",
       "    .dataframe thead th {\n",
       "        text-align: right;\n",
       "    }\n",
       "</style>\n",
       "<table border=\"1\" class=\"dataframe\">\n",
       "  <thead>\n",
       "    <tr style=\"text-align: right;\">\n",
       "      <th></th>\n",
       "      <th>Indicator Category</th>\n",
       "      <th>Indicator</th>\n",
       "      <th>Year</th>\n",
       "      <th>Sex</th>\n",
       "      <th>Race/Ethnicity</th>\n",
       "      <th>Value</th>\n",
       "      <th>Place</th>\n",
       "      <th>BCHC Requested Methodology</th>\n",
       "      <th>Source</th>\n",
       "      <th>Methods</th>\n",
       "      <th>Notes</th>\n",
       "      <th>90% Confidence Level - Low</th>\n",
       "      <th>90% Confidence Level - High</th>\n",
       "      <th>95% Confidence Level - Low</th>\n",
       "      <th>95% Confidence Level - High</th>\n",
       "    </tr>\n",
       "  </thead>\n",
       "  <tbody>\n",
       "    <tr>\n",
       "      <td>12241</td>\n",
       "      <td>Demographics</td>\n",
       "      <td>Total Population (People)</td>\n",
       "      <td>2012</td>\n",
       "      <td>Both</td>\n",
       "      <td>All</td>\n",
       "      <td>390923.0</td>\n",
       "      <td>Cleveland, OH</td>\n",
       "      <td>Total population using US Census Bureau, Ameri...</td>\n",
       "      <td>US Census Bureau, American Community Survey 1-...</td>\n",
       "      <td>NaN</td>\n",
       "      <td>FIPS code 3916000 was used to isolate data for...</td>\n",
       "      <td>390876.0</td>\n",
       "      <td>390970.0</td>\n",
       "      <td>NaN</td>\n",
       "      <td>NaN</td>\n",
       "    </tr>\n",
       "    <tr>\n",
       "      <td>12242</td>\n",
       "      <td>Demographics</td>\n",
       "      <td>Total Population (People)</td>\n",
       "      <td>2012</td>\n",
       "      <td>Both</td>\n",
       "      <td>All</td>\n",
       "      <td>392871.0</td>\n",
       "      <td>Minneapolis, MN</td>\n",
       "      <td>Total population using US Census Bureau, Ameri...</td>\n",
       "      <td>US Census Bureau, American Community Survey 1-...</td>\n",
       "      <td>NaN</td>\n",
       "      <td>FIPS code 2743000 was used to isolate data for...</td>\n",
       "      <td>392823.0</td>\n",
       "      <td>392919.0</td>\n",
       "      <td>NaN</td>\n",
       "      <td>NaN</td>\n",
       "    </tr>\n",
       "    <tr>\n",
       "      <td>12243</td>\n",
       "      <td>Demographics</td>\n",
       "      <td>Total Population (People)</td>\n",
       "      <td>2012</td>\n",
       "      <td>Both</td>\n",
       "      <td>All</td>\n",
       "      <td>400740.0</td>\n",
       "      <td>Oakland (Alameda County), CA</td>\n",
       "      <td>Total population using US Census Bureau, Ameri...</td>\n",
       "      <td>US Census Bureau, American Community Survey 1-...</td>\n",
       "      <td>NaN</td>\n",
       "      <td>FIPS code 0653000 was used to isolate data for...</td>\n",
       "      <td>400689.0</td>\n",
       "      <td>400791.0</td>\n",
       "      <td>NaN</td>\n",
       "      <td>NaN</td>\n",
       "    </tr>\n",
       "    <tr>\n",
       "      <td>12244</td>\n",
       "      <td>Demographics</td>\n",
       "      <td>Total Population (People)</td>\n",
       "      <td>2012</td>\n",
       "      <td>Both</td>\n",
       "      <td>All</td>\n",
       "      <td>464346.0</td>\n",
       "      <td>Kansas City, MO</td>\n",
       "      <td>Total population using US Census Bureau, Ameri...</td>\n",
       "      <td>US Census Bureau, American Community Survey 1-...</td>\n",
       "      <td>NaN</td>\n",
       "      <td>FIPS code 2938000 was used to isolate data for...</td>\n",
       "      <td>464129.0</td>\n",
       "      <td>464563.0</td>\n",
       "      <td>NaN</td>\n",
       "      <td>NaN</td>\n",
       "    </tr>\n",
       "    <tr>\n",
       "      <td>12245</td>\n",
       "      <td>Demographics</td>\n",
       "      <td>Total Population (People)</td>\n",
       "      <td>2012</td>\n",
       "      <td>Both</td>\n",
       "      <td>All</td>\n",
       "      <td>467888.0</td>\n",
       "      <td>Long Beach, CA</td>\n",
       "      <td>Total population using US Census Bureau, Ameri...</td>\n",
       "      <td>US Census Bureau, American Community Survey 1-...</td>\n",
       "      <td>NaN</td>\n",
       "      <td>FIPS code 0643000 was used to isolate data for...</td>\n",
       "      <td>467843.0</td>\n",
       "      <td>467933.0</td>\n",
       "      <td>NaN</td>\n",
       "      <td>NaN</td>\n",
       "    </tr>\n",
       "    <tr>\n",
       "      <td>...</td>\n",
       "      <td>...</td>\n",
       "      <td>...</td>\n",
       "      <td>...</td>\n",
       "      <td>...</td>\n",
       "      <td>...</td>\n",
       "      <td>...</td>\n",
       "      <td>...</td>\n",
       "      <td>...</td>\n",
       "      <td>...</td>\n",
       "      <td>...</td>\n",
       "      <td>...</td>\n",
       "      <td>...</td>\n",
       "      <td>...</td>\n",
       "      <td>...</td>\n",
       "      <td>...</td>\n",
       "    </tr>\n",
       "    <tr>\n",
       "      <td>12381</td>\n",
       "      <td>Demographics</td>\n",
       "      <td>Total Population (People)</td>\n",
       "      <td>2016</td>\n",
       "      <td>Both</td>\n",
       "      <td>All</td>\n",
       "      <td>2712945.0</td>\n",
       "      <td>Miami (Miami-Dade County), FL</td>\n",
       "      <td>Total population using US Census Bureau, Ameri...</td>\n",
       "      <td>US Census Bureau, American Community Survey 1-...</td>\n",
       "      <td>NaN</td>\n",
       "      <td>FIPS code 12086 was used to isolate data for M...</td>\n",
       "      <td>NaN</td>\n",
       "      <td>NaN</td>\n",
       "      <td>NaN</td>\n",
       "      <td>NaN</td>\n",
       "    </tr>\n",
       "    <tr>\n",
       "      <td>12382</td>\n",
       "      <td>Demographics</td>\n",
       "      <td>Total Population (People)</td>\n",
       "      <td>2016</td>\n",
       "      <td>Both</td>\n",
       "      <td>All</td>\n",
       "      <td>3317749.0</td>\n",
       "      <td>San Diego County, CA</td>\n",
       "      <td>Total population using US Census Bureau, Ameri...</td>\n",
       "      <td>US Census Bureau, American Community Survey 1-...</td>\n",
       "      <td>NaN</td>\n",
       "      <td>FIPS code 06073 was used to isolate data for S...</td>\n",
       "      <td>NaN</td>\n",
       "      <td>NaN</td>\n",
       "      <td>NaN</td>\n",
       "      <td>NaN</td>\n",
       "    </tr>\n",
       "    <tr>\n",
       "      <td>12383</td>\n",
       "      <td>Demographics</td>\n",
       "      <td>Total Population (People)</td>\n",
       "      <td>2016</td>\n",
       "      <td>Both</td>\n",
       "      <td>All</td>\n",
       "      <td>3976324.0</td>\n",
       "      <td>Los Angeles, CA</td>\n",
       "      <td>Total population using US Census Bureau, Ameri...</td>\n",
       "      <td>US Census Bureau, American Community Survey 1-...</td>\n",
       "      <td>NaN</td>\n",
       "      <td>FIPS code 0644000 was used to isolate data for...</td>\n",
       "      <td>NaN</td>\n",
       "      <td>NaN</td>\n",
       "      <td>NaN</td>\n",
       "      <td>NaN</td>\n",
       "    </tr>\n",
       "    <tr>\n",
       "      <td>12384</td>\n",
       "      <td>Demographics</td>\n",
       "      <td>Total Population (People)</td>\n",
       "      <td>2016</td>\n",
       "      <td>Both</td>\n",
       "      <td>All</td>\n",
       "      <td>8537673.0</td>\n",
       "      <td>New York City, NY</td>\n",
       "      <td>Total population using US Census Bureau, Ameri...</td>\n",
       "      <td>US Census Bureau, American Community Survey 1-...</td>\n",
       "      <td>NaN</td>\n",
       "      <td>FIPS code 3651000 was used to isolate data for...</td>\n",
       "      <td>NaN</td>\n",
       "      <td>NaN</td>\n",
       "      <td>NaN</td>\n",
       "      <td>NaN</td>\n",
       "    </tr>\n",
       "    <tr>\n",
       "      <td>12385</td>\n",
       "      <td>Demographics</td>\n",
       "      <td>Total Population (People)</td>\n",
       "      <td>2016</td>\n",
       "      <td>Both</td>\n",
       "      <td>All</td>\n",
       "      <td>323127515.0</td>\n",
       "      <td>U.S. Total, U.S. Total</td>\n",
       "      <td>Total population using US Census Bureau, Ameri...</td>\n",
       "      <td>US Census Bureau, American Community Survey 1-...</td>\n",
       "      <td>NaN</td>\n",
       "      <td>NaN</td>\n",
       "      <td>NaN</td>\n",
       "      <td>NaN</td>\n",
       "      <td>NaN</td>\n",
       "      <td>NaN</td>\n",
       "    </tr>\n",
       "  </tbody>\n",
       "</table>\n",
       "<p>145 rows × 15 columns</p>\n",
       "</div>"
      ],
      "text/plain": [
       "      Indicator Category                  Indicator  Year   Sex  \\\n",
       "12241       Demographics  Total Population (People)  2012  Both   \n",
       "12242       Demographics  Total Population (People)  2012  Both   \n",
       "12243       Demographics  Total Population (People)  2012  Both   \n",
       "12244       Demographics  Total Population (People)  2012  Both   \n",
       "12245       Demographics  Total Population (People)  2012  Both   \n",
       "...                  ...                        ...   ...   ...   \n",
       "12381       Demographics  Total Population (People)  2016  Both   \n",
       "12382       Demographics  Total Population (People)  2016  Both   \n",
       "12383       Demographics  Total Population (People)  2016  Both   \n",
       "12384       Demographics  Total Population (People)  2016  Both   \n",
       "12385       Demographics  Total Population (People)  2016  Both   \n",
       "\n",
       "      Race/Ethnicity        Value                          Place  \\\n",
       "12241            All     390923.0                  Cleveland, OH   \n",
       "12242            All     392871.0                Minneapolis, MN   \n",
       "12243            All     400740.0   Oakland (Alameda County), CA   \n",
       "12244            All     464346.0                Kansas City, MO   \n",
       "12245            All     467888.0                 Long Beach, CA   \n",
       "...              ...          ...                            ...   \n",
       "12381            All    2712945.0  Miami (Miami-Dade County), FL   \n",
       "12382            All    3317749.0           San Diego County, CA   \n",
       "12383            All    3976324.0                Los Angeles, CA   \n",
       "12384            All    8537673.0              New York City, NY   \n",
       "12385            All  323127515.0         U.S. Total, U.S. Total   \n",
       "\n",
       "                              BCHC Requested Methodology  \\\n",
       "12241  Total population using US Census Bureau, Ameri...   \n",
       "12242  Total population using US Census Bureau, Ameri...   \n",
       "12243  Total population using US Census Bureau, Ameri...   \n",
       "12244  Total population using US Census Bureau, Ameri...   \n",
       "12245  Total population using US Census Bureau, Ameri...   \n",
       "...                                                  ...   \n",
       "12381  Total population using US Census Bureau, Ameri...   \n",
       "12382  Total population using US Census Bureau, Ameri...   \n",
       "12383  Total population using US Census Bureau, Ameri...   \n",
       "12384  Total population using US Census Bureau, Ameri...   \n",
       "12385  Total population using US Census Bureau, Ameri...   \n",
       "\n",
       "                                                  Source Methods  \\\n",
       "12241  US Census Bureau, American Community Survey 1-...     NaN   \n",
       "12242  US Census Bureau, American Community Survey 1-...     NaN   \n",
       "12243  US Census Bureau, American Community Survey 1-...     NaN   \n",
       "12244  US Census Bureau, American Community Survey 1-...     NaN   \n",
       "12245  US Census Bureau, American Community Survey 1-...     NaN   \n",
       "...                                                  ...     ...   \n",
       "12381  US Census Bureau, American Community Survey 1-...     NaN   \n",
       "12382  US Census Bureau, American Community Survey 1-...     NaN   \n",
       "12383  US Census Bureau, American Community Survey 1-...     NaN   \n",
       "12384  US Census Bureau, American Community Survey 1-...     NaN   \n",
       "12385  US Census Bureau, American Community Survey 1-...     NaN   \n",
       "\n",
       "                                                   Notes  \\\n",
       "12241  FIPS code 3916000 was used to isolate data for...   \n",
       "12242  FIPS code 2743000 was used to isolate data for...   \n",
       "12243  FIPS code 0653000 was used to isolate data for...   \n",
       "12244  FIPS code 2938000 was used to isolate data for...   \n",
       "12245  FIPS code 0643000 was used to isolate data for...   \n",
       "...                                                  ...   \n",
       "12381  FIPS code 12086 was used to isolate data for M...   \n",
       "12382  FIPS code 06073 was used to isolate data for S...   \n",
       "12383  FIPS code 0644000 was used to isolate data for...   \n",
       "12384  FIPS code 3651000 was used to isolate data for...   \n",
       "12385                                                NaN   \n",
       "\n",
       "       90% Confidence Level - Low  90% Confidence Level - High  \\\n",
       "12241                    390876.0                     390970.0   \n",
       "12242                    392823.0                     392919.0   \n",
       "12243                    400689.0                     400791.0   \n",
       "12244                    464129.0                     464563.0   \n",
       "12245                    467843.0                     467933.0   \n",
       "...                           ...                          ...   \n",
       "12381                         NaN                          NaN   \n",
       "12382                         NaN                          NaN   \n",
       "12383                         NaN                          NaN   \n",
       "12384                         NaN                          NaN   \n",
       "12385                         NaN                          NaN   \n",
       "\n",
       "       95% Confidence Level - Low  95% Confidence Level - High  \n",
       "12241                         NaN                          NaN  \n",
       "12242                         NaN                          NaN  \n",
       "12243                         NaN                          NaN  \n",
       "12244                         NaN                          NaN  \n",
       "12245                         NaN                          NaN  \n",
       "...                           ...                          ...  \n",
       "12381                         NaN                          NaN  \n",
       "12382                         NaN                          NaN  \n",
       "12383                         NaN                          NaN  \n",
       "12384                         NaN                          NaN  \n",
       "12385                         NaN                          NaN  \n",
       "\n",
       "[145 rows x 15 columns]"
      ]
     },
     "execution_count": 16,
     "metadata": {},
     "output_type": "execute_result"
    }
   ],
   "source": [
    "a = df['Indicator'] == 'Total Population (People)'\n",
    "df[a]"
   ]
  },
  {
   "cell_type": "markdown",
   "metadata": {},
   "source": [
    "### 1) What is the Indicator attribute?\n",
    "\n"
   ]
  },
  {
   "cell_type": "markdown",
   "metadata": {},
   "source": [
    "The 61 Indicators in this dataset encompass 13 broader categories of public health importance (Indicator Categories): \n",
    " + Behavioral Health/Substance Abuse, \n",
    " + Cancer, \n",
    " + Chronic Disease, \n",
    " + Demographics, \n",
    " + Environment, \n",
    " + Food Safety, \n",
    " + HIV/AIDS,\n",
    " + Infectious Disease, \n",
    " + Injury/Violence,\n",
    " + Life Expectancy and Death Rate (Overall),\n",
    " + Maternal and Child Health,\n",
    " + Sexually Transmitted Infections,\n",
    " + Social and Economic Factors. \n",
    "\n",
    "According to the BCHI website, \"these indicators were chosen based on their relationship to the leading causes of morbidity and mortality in the United States and their role in creating healthier, safer communities\". "
   ]
  },
  {
   "cell_type": "code",
   "execution_count": 26,
   "metadata": {},
   "outputs": [
    {
     "name": "stdout",
     "output_type": "stream",
     "text": [
      "Indicator Categories:\n",
      "['Behavioral Health/Substance Abuse' 'Cancer' 'Chronic Disease'\n",
      " 'Demographics' 'Environment' 'Food Safety' 'HIV/AIDS'\n",
      " 'Infectious Disease' 'Injury/Violence'\n",
      " 'Life Expectancy and Death Rate (Overall)' 'Maternal and Child Health'\n",
      " 'Sexually Transmitted Infections' 'Social and Economic Factors']\n"
     ]
    }
   ],
   "source": [
    "print('Indicator Categories:')\n",
    "print(df['Indicator Category'].unique()) #Display all unique values of Indicator Category variable"
   ]
  },
  {
   "cell_type": "code",
   "execution_count": 43,
   "metadata": {},
   "outputs": [
    {
     "name": "stdout",
     "output_type": "stream",
     "text": [
      "Indicators:\n",
      "['Opioid-Related Unintentional Drug Overdose Mortality Rate (Age-Adjusted; Per 100,000 people)'\n",
      " 'Percent of Adults Who Binge Drank'\n",
      " 'Percent of High School Students Who Binge Drank'\n",
      " 'All Types of Cancer Mortality Rate (Age-Adjusted; Per 100,000 people)'\n",
      " 'Female Breast Cancer Mortality Rate (Age-Adjusted; Per 100,000 people)'\n",
      " 'Lung Cancer Mortality Rate (Age-Adjusted; Per 100,000 people)'\n",
      " 'Asthma Emergency Department Visit Rate (Age-Adjusted; Per 10,000)'\n",
      " 'Diabetes Mortality Rate (Age-Adjusted; Per 100,000 people)'\n",
      " 'Heart Disease Mortality Rate (Age-Adjusted; Per 100,000 people)'\n",
      " 'Percent of Adults Who Are Obese' 'Percent of Adults Who Currently Smoke'\n",
      " 'Percent of Adults Who Meet CDC-Recommended Physical Activity Levels'\n",
      " 'Percent of High School Students Who Are Obese'\n",
      " 'Percent of High School Students Who Currently Smoke'\n",
      " 'Percent of High School Students Who Meet CDC-Recommended Physical Activity Levels'\n",
      " 'Percent Foreign Born' 'Percent of Population 65 and Over'\n",
      " 'Percent of Population Under 18'\n",
      " 'Percent of Population with a Disability'\n",
      " 'Percent Who Only Speak English at Home'\n",
      " 'Percent Who Speak Spanish at Home' 'Race/Ethnicity (Percent)'\n",
      " 'Sex (Percent)' 'Total Population (People)' 'Bike Score'\n",
      " 'Percent of Children (Tested) Under Age 6 with Elevated Blood Lead Levels'\n",
      " 'Transit Score' 'Walkability'\n",
      " 'Rate of Laboratory Confirmed Infections Caused by Salmonella (Per 100,000 people)'\n",
      " 'Rate of Laboratory Confirmed Infections Caused by Shiga Toxin-Producing E-Coli (Per 100,000 people)'\n",
      " 'AIDS Diagnoses Rate (Per 100,000 people)'\n",
      " 'HIV Diagnoses Rate (Per 100,000 people)'\n",
      " 'HIV-Related Mortality Rate (Age-Adjusted; Per 100,000 people)'\n",
      " 'Persons Living with HIV/AIDS Rate (Per 100,000 people)'\n",
      " 'Percent of Adults 65 and Over Who Received Pneumonia Vaccine'\n",
      " 'Percent of Adults Who Received Seasonal Flu Shot'\n",
      " 'Percent of Children Who Received Seasonal Flu Shot'\n",
      " 'Pneumonia and Influenza Mortality Rate (Age-Adjusted; Per 100,000 people)'\n",
      " 'Tuberculosis Incidence Rate (Per 100,000 people)'\n",
      " 'Firearm-Related Emergency Department Visit Rate (Age-Adjusted; Per 10,000 people)'\n",
      " 'Firearm-Related Mortality Rate (Age-Adjusted; Per 100,000 people)'\n",
      " 'Homicide Rate (Age-Adjusted; Per 100,000 people)'\n",
      " 'Motor Vehicle Mortality Rate (Age-Adjusted; Per 100,000 people)'\n",
      " 'Suicide Rate (Age-Adjusted; Per 100,000 people)'\n",
      " 'All-Cause Mortality Rate (Age-Adjusted; Per 100,000 people)'\n",
      " 'Life Expectancy at Birth (Years)'\n",
      " 'Infant Mortality Rate (Per 1,000 live births)'\n",
      " 'Percent of Low Birth Weight Babies Born'\n",
      " 'Percent of Mothers Under Age 20' 'Chlamydia Rate (Per 100,000 People)'\n",
      " 'Congenital Syphilis Rate (Per 100,000 Live Births)'\n",
      " 'Gonorrhea Rate (Per 100,000 People)'\n",
      " 'Primary and Secondary Syphilis Rate (Per 100,000 People)'\n",
      " 'Median Household Income (Dollars)'\n",
      " 'Percent Living Below 200% Poverty Level'\n",
      " 'Percent of 3 and 4 Year Olds Currently Enrolled in Preschool'\n",
      " 'Percent of Children Living in Poverty'\n",
      " 'Percent of High School Graduates (Over Age 18)'\n",
      " 'Percent of Households Whose Housing Costs Exceed 35% of Income'\n",
      " 'Percent of Population Uninsured' 'Percent Unemployed']\n"
     ]
    }
   ],
   "source": [
    "print('Indicators:')\n",
    "print(df['Indicator'].unique())  #Display all unique values of Indicator variable"
   ]
  },
  {
   "cell_type": "markdown",
   "metadata": {},
   "source": [
    "### 2) How many categories of Indicator are there?"
   ]
  },
  {
   "cell_type": "markdown",
   "metadata": {},
   "source": [
    "There are 13 different Indicator categories, and 61 different Indicators within those 13 categories."
   ]
  },
  {
   "cell_type": "code",
   "execution_count": 51,
   "metadata": {},
   "outputs": [
    {
     "name": "stdout",
     "output_type": "stream",
     "text": [
      "Number of Indicator Categories: 13\n"
     ]
    }
   ],
   "source": [
    "print('Number of Indicator Categories:', df['Indicator Category'].nunique())  #Find number of Categories of Indicators"
   ]
  },
  {
   "cell_type": "code",
   "execution_count": 48,
   "metadata": {},
   "outputs": [
    {
     "name": "stdout",
     "output_type": "stream",
     "text": [
      "Number of Indicators: 61\n"
     ]
    }
   ],
   "source": [
    "print('Number of Indicators:', df['Indicator'].nunique()) #Find number of values (Indicators) for Indicator Variable"
   ]
  },
  {
   "cell_type": "markdown",
   "metadata": {},
   "source": [
    "### 3) Explain the \"Value\" value of row 26382 in this dataset."
   ]
  },
  {
   "cell_type": "markdown",
   "metadata": {},
   "source": [
    "The \"Value\" variable describes the calculated value of the Indicator. \n",
    "\n",
    "In this case (row = 26,382), the value of \"Value\" represents the Rate of Infant Mortality (Per 1,000 live births) \n",
    "within the Asian/Pacific Islander population of Denver, Colorado in the year 2010. Both sexes were considered.\n",
    "\n",
    "[\"There were 2.0 infant deaths per 1,000 live births within the Asian/Pacific Islander population of Denver, Colorado in the year 2010.\"]\n"
   ]
  },
  {
   "cell_type": "code",
   "execution_count": 38,
   "metadata": {},
   "outputs": [
    {
     "data": {
      "text/html": [
       "<div>\n",
       "<style scoped>\n",
       "    .dataframe tbody tr th:only-of-type {\n",
       "        vertical-align: middle;\n",
       "    }\n",
       "\n",
       "    .dataframe tbody tr th {\n",
       "        vertical-align: top;\n",
       "    }\n",
       "\n",
       "    .dataframe thead th {\n",
       "        text-align: right;\n",
       "    }\n",
       "</style>\n",
       "<table border=\"1\" class=\"dataframe\">\n",
       "  <thead>\n",
       "    <tr style=\"text-align: right;\">\n",
       "      <th></th>\n",
       "      <th>Indicator Category</th>\n",
       "      <th>Indicator</th>\n",
       "      <th>Year</th>\n",
       "      <th>Sex</th>\n",
       "      <th>Race/Ethnicity</th>\n",
       "      <th>Value</th>\n",
       "      <th>Place</th>\n",
       "      <th>BCHC Requested Methodology</th>\n",
       "      <th>Source</th>\n",
       "      <th>Methods</th>\n",
       "      <th>Notes</th>\n",
       "      <th>90% Confidence Level - Low</th>\n",
       "      <th>90% Confidence Level - High</th>\n",
       "      <th>95% Confidence Level - Low</th>\n",
       "      <th>95% Confidence Level - High</th>\n",
       "    </tr>\n",
       "  </thead>\n",
       "  <tbody>\n",
       "    <tr>\n",
       "      <td>26382</td>\n",
       "      <td>Maternal and Child Health</td>\n",
       "      <td>Infant Mortality Rate (Per 1,000 live births)</td>\n",
       "      <td>2010</td>\n",
       "      <td>Both</td>\n",
       "      <td>Asian/PI</td>\n",
       "      <td>2.0</td>\n",
       "      <td>Denver, CO</td>\n",
       "      <td>Infant deaths per 1,000 live births.</td>\n",
       "      <td>Vital Records</td>\n",
       "      <td>NaN</td>\n",
       "      <td>NaN</td>\n",
       "      <td>NaN</td>\n",
       "      <td>NaN</td>\n",
       "      <td>NaN</td>\n",
       "      <td>NaN</td>\n",
       "    </tr>\n",
       "  </tbody>\n",
       "</table>\n",
       "</div>"
      ],
      "text/plain": [
       "              Indicator Category  \\\n",
       "26382  Maternal and Child Health   \n",
       "\n",
       "                                           Indicator  Year   Sex  \\\n",
       "26382  Infant Mortality Rate (Per 1,000 live births)  2010  Both   \n",
       "\n",
       "      Race/Ethnicity  Value       Place            BCHC Requested Methodology  \\\n",
       "26382       Asian/PI    2.0  Denver, CO  Infant deaths per 1,000 live births.   \n",
       "\n",
       "              Source Methods Notes  90% Confidence Level - Low  \\\n",
       "26382  Vital Records     NaN   NaN                         NaN   \n",
       "\n",
       "       90% Confidence Level - High  95% Confidence Level - Low  \\\n",
       "26382                          NaN                         NaN   \n",
       "\n",
       "       95% Confidence Level - High  \n",
       "26382                          NaN  "
      ]
     },
     "execution_count": 38,
     "metadata": {},
     "output_type": "execute_result"
    }
   ],
   "source": [
    "df.iloc[[26382]]  #Retrieve Row 26382"
   ]
  },
  {
   "cell_type": "code",
   "execution_count": 60,
   "metadata": {},
   "outputs": [
    {
     "name": "stdout",
     "output_type": "stream",
     "text": [
      "BCHC Requested Methodology: Infant deaths per 1,000 live births.\n"
     ]
    }
   ],
   "source": [
    "print('BCHC Requested Methodology:', df.iloc[26382]['BCHC Requested Methodology'])  #Get Full text for BCHC Requested Methodology"
   ]
  },
  {
   "cell_type": "markdown",
   "metadata": {},
   "source": [
    "### 4) Explain the \"Value\" value of row 7833."
   ]
  },
  {
   "cell_type": "markdown",
   "metadata": {},
   "source": [
    "For row = 7,833, the value of \"Value\" represents the Percent of Adults who Meet CDC-Recommended Physical Activity Levels within the Hispanic population of Oakland (Alameda County), CA in the year 2011. Both sexes were considered.\n",
    "\n",
    "[\"44.2% of the Hispanic population of Oakland (Alameda County), CA met CDC-Recommended Physical Activity Levels in the year 2011.\"]"
   ]
  },
  {
   "cell_type": "code",
   "execution_count": 39,
   "metadata": {},
   "outputs": [
    {
     "data": {
      "text/html": [
       "<div>\n",
       "<style scoped>\n",
       "    .dataframe tbody tr th:only-of-type {\n",
       "        vertical-align: middle;\n",
       "    }\n",
       "\n",
       "    .dataframe tbody tr th {\n",
       "        vertical-align: top;\n",
       "    }\n",
       "\n",
       "    .dataframe thead th {\n",
       "        text-align: right;\n",
       "    }\n",
       "</style>\n",
       "<table border=\"1\" class=\"dataframe\">\n",
       "  <thead>\n",
       "    <tr style=\"text-align: right;\">\n",
       "      <th></th>\n",
       "      <th>Indicator Category</th>\n",
       "      <th>Indicator</th>\n",
       "      <th>Year</th>\n",
       "      <th>Sex</th>\n",
       "      <th>Race/Ethnicity</th>\n",
       "      <th>Value</th>\n",
       "      <th>Place</th>\n",
       "      <th>BCHC Requested Methodology</th>\n",
       "      <th>Source</th>\n",
       "      <th>Methods</th>\n",
       "      <th>Notes</th>\n",
       "      <th>90% Confidence Level - Low</th>\n",
       "      <th>90% Confidence Level - High</th>\n",
       "      <th>95% Confidence Level - Low</th>\n",
       "      <th>95% Confidence Level - High</th>\n",
       "    </tr>\n",
       "  </thead>\n",
       "  <tbody>\n",
       "    <tr>\n",
       "      <td>7833</td>\n",
       "      <td>Chronic Disease</td>\n",
       "      <td>Percent of Adults Who Meet CDC-Recommended Phy...</td>\n",
       "      <td>2011</td>\n",
       "      <td>Both</td>\n",
       "      <td>Hispanic</td>\n",
       "      <td>44.2</td>\n",
       "      <td>Oakland (Alameda County), CA</td>\n",
       "      <td>BRFSS (or similar survey). Percent of populati...</td>\n",
       "      <td>CHIS- 2005, 2009</td>\n",
       "      <td>Adults 18+ years, Moderate physical activity a...</td>\n",
       "      <td>NaN</td>\n",
       "      <td>NaN</td>\n",
       "      <td>NaN</td>\n",
       "      <td>NaN</td>\n",
       "      <td>NaN</td>\n",
       "    </tr>\n",
       "  </tbody>\n",
       "</table>\n",
       "</div>"
      ],
      "text/plain": [
       "     Indicator Category                                          Indicator  \\\n",
       "7833    Chronic Disease  Percent of Adults Who Meet CDC-Recommended Phy...   \n",
       "\n",
       "      Year   Sex Race/Ethnicity  Value                         Place  \\\n",
       "7833  2011  Both       Hispanic   44.2  Oakland (Alameda County), CA   \n",
       "\n",
       "                             BCHC Requested Methodology            Source  \\\n",
       "7833  BRFSS (or similar survey). Percent of populati...  CHIS- 2005, 2009   \n",
       "\n",
       "                                                Methods Notes  \\\n",
       "7833  Adults 18+ years, Moderate physical activity a...   NaN   \n",
       "\n",
       "      90% Confidence Level - Low  90% Confidence Level - High  \\\n",
       "7833                         NaN                          NaN   \n",
       "\n",
       "      95% Confidence Level - Low  95% Confidence Level - High  \n",
       "7833                         NaN                          NaN  "
      ]
     },
     "execution_count": 39,
     "metadata": {},
     "output_type": "execute_result"
    }
   ],
   "source": [
    "df.iloc[[7833]]"
   ]
  },
  {
   "cell_type": "code",
   "execution_count": 63,
   "metadata": {},
   "outputs": [
    {
     "name": "stdout",
     "output_type": "stream",
     "text": [
      "Indicator: Percent of Adults Who Meet CDC-Recommended Physical Activity Levels\n"
     ]
    }
   ],
   "source": [
    "print('Indicator:', df.iloc[7833]['Indicator']) #Get Full text for Indicator"
   ]
  },
  {
   "cell_type": "code",
   "execution_count": 64,
   "metadata": {},
   "outputs": [
    {
     "name": "stdout",
     "output_type": "stream",
     "text": [
      "BCHC Requested Methodology: BRFSS (or similar survey). Percent of population 18 years and over that meets CDC physical activity recommendations: 18 and over get at least 2 hrs, 30 mins of moderate intensity aerobic activity every week for good health; 1 hr, 15 mins of vigorous intensity aerobic activity; or an equivalent mix of moderate and vigorous.\n"
     ]
    }
   ],
   "source": [
    "print('BCHC Requested Methodology:', df.iloc[7833]['BCHC Requested Methodology']) #Get Full text for BCHC Requested Methodology"
   ]
  },
  {
   "cell_type": "code",
   "execution_count": 65,
   "metadata": {},
   "outputs": [
    {
     "name": "stdout",
     "output_type": "stream",
     "text": [
      "Methods: Adults 18+ years, Moderate physical activity at least 5 days/wk and 30 min/day\n"
     ]
    }
   ],
   "source": [
    "print('Method:', df.iloc[7833]['Methods']) #Get Full text for Methods"
   ]
  },
  {
   "cell_type": "markdown",
   "metadata": {},
   "source": [
    "### 5) Explain the \"Value\" value of row 10682. What does it mean that the \"Sex\" value is \"Both\"?"
   ]
  },
  {
   "cell_type": "markdown",
   "metadata": {},
   "source": [
    "For row = 10,682, the value of \"Value\" represents the Percent of the Population with a Disability within the Hispanic population of Los Angeles, CA in the year 2016. \n",
    "\n",
    "[\"8.9% of the Hispanic population of Los Angeles, CA had a documented disability in the year 2016\"]\n",
    "\n",
    "\"Sex\" = 'Both' indicates that data for both sexes are considered in the calculations for \"Value\" = Percent of the Population with a Disability.\n",
    "\n",
    "Documented disabilites include: hearing, vision, cognitive, ambulatory, self-care, or independent living difficulties"
   ]
  },
  {
   "cell_type": "code",
   "execution_count": 40,
   "metadata": {},
   "outputs": [
    {
     "data": {
      "text/html": [
       "<div>\n",
       "<style scoped>\n",
       "    .dataframe tbody tr th:only-of-type {\n",
       "        vertical-align: middle;\n",
       "    }\n",
       "\n",
       "    .dataframe tbody tr th {\n",
       "        vertical-align: top;\n",
       "    }\n",
       "\n",
       "    .dataframe thead th {\n",
       "        text-align: right;\n",
       "    }\n",
       "</style>\n",
       "<table border=\"1\" class=\"dataframe\">\n",
       "  <thead>\n",
       "    <tr style=\"text-align: right;\">\n",
       "      <th></th>\n",
       "      <th>Indicator Category</th>\n",
       "      <th>Indicator</th>\n",
       "      <th>Year</th>\n",
       "      <th>Sex</th>\n",
       "      <th>Race/Ethnicity</th>\n",
       "      <th>Value</th>\n",
       "      <th>Place</th>\n",
       "      <th>BCHC Requested Methodology</th>\n",
       "      <th>Source</th>\n",
       "      <th>Methods</th>\n",
       "      <th>Notes</th>\n",
       "      <th>90% Confidence Level - Low</th>\n",
       "      <th>90% Confidence Level - High</th>\n",
       "      <th>95% Confidence Level - Low</th>\n",
       "      <th>95% Confidence Level - High</th>\n",
       "    </tr>\n",
       "  </thead>\n",
       "  <tbody>\n",
       "    <tr>\n",
       "      <td>10682</td>\n",
       "      <td>Demographics</td>\n",
       "      <td>Percent of Population with a Disability</td>\n",
       "      <td>2016</td>\n",
       "      <td>Both</td>\n",
       "      <td>Hispanic</td>\n",
       "      <td>8.9</td>\n",
       "      <td>Los Angeles, CA</td>\n",
       "      <td>Percentage of the population with a disability...</td>\n",
       "      <td>US Census Bureau, American Community Survey 1-...</td>\n",
       "      <td>NaN</td>\n",
       "      <td>NaN</td>\n",
       "      <td>NaN</td>\n",
       "      <td>NaN</td>\n",
       "      <td>NaN</td>\n",
       "      <td>NaN</td>\n",
       "    </tr>\n",
       "  </tbody>\n",
       "</table>\n",
       "</div>"
      ],
      "text/plain": [
       "      Indicator Category                                Indicator  Year   Sex  \\\n",
       "10682       Demographics  Percent of Population with a Disability  2016  Both   \n",
       "\n",
       "      Race/Ethnicity  Value            Place  \\\n",
       "10682       Hispanic    8.9  Los Angeles, CA   \n",
       "\n",
       "                              BCHC Requested Methodology  \\\n",
       "10682  Percentage of the population with a disability...   \n",
       "\n",
       "                                                  Source Methods Notes  \\\n",
       "10682  US Census Bureau, American Community Survey 1-...     NaN   NaN   \n",
       "\n",
       "       90% Confidence Level - Low  90% Confidence Level - High  \\\n",
       "10682                         NaN                          NaN   \n",
       "\n",
       "       95% Confidence Level - Low  95% Confidence Level - High  \n",
       "10682                         NaN                          NaN  "
      ]
     },
     "execution_count": 40,
     "metadata": {},
     "output_type": "execute_result"
    }
   ],
   "source": [
    "df.iloc[[10682]]"
   ]
  },
  {
   "cell_type": "code",
   "execution_count": 66,
   "metadata": {},
   "outputs": [
    {
     "name": "stdout",
     "output_type": "stream",
     "text": [
      "BCHC Requested Methodology: Percentage of the population with a disability (including hearing, vision, cognitive, ambulatory, self-care, or independent living difficulties), using US Census, American Community Survey 1-year estimates or something similar.\n"
     ]
    }
   ],
   "source": [
    "print('BCHC Requested Methodology:', df.iloc[10682]['BCHC Requested Methodology']) #Get Full text for BCHC Requested Methodology"
   ]
  },
  {
   "cell_type": "markdown",
   "metadata": {},
   "source": [
    "### 6) Explain the \"Value\" value of row 26701."
   ]
  },
  {
   "cell_type": "markdown",
   "metadata": {},
   "source": [
    "For row = 26,701, the value of \"Value\" represents the Infant Mortality Rate (Per 1,000 live births) within the White population of San Antonio, TX in the year 2012. Both sexes are considered.\n",
    "\n",
    "[\"There were 5.0 infant deaths per 1,000 live births within the White population of San Antonio, TX in the year 2012.\"]"
   ]
  },
  {
   "cell_type": "code",
   "execution_count": 41,
   "metadata": {},
   "outputs": [
    {
     "data": {
      "text/html": [
       "<div>\n",
       "<style scoped>\n",
       "    .dataframe tbody tr th:only-of-type {\n",
       "        vertical-align: middle;\n",
       "    }\n",
       "\n",
       "    .dataframe tbody tr th {\n",
       "        vertical-align: top;\n",
       "    }\n",
       "\n",
       "    .dataframe thead th {\n",
       "        text-align: right;\n",
       "    }\n",
       "</style>\n",
       "<table border=\"1\" class=\"dataframe\">\n",
       "  <thead>\n",
       "    <tr style=\"text-align: right;\">\n",
       "      <th></th>\n",
       "      <th>Indicator Category</th>\n",
       "      <th>Indicator</th>\n",
       "      <th>Year</th>\n",
       "      <th>Sex</th>\n",
       "      <th>Race/Ethnicity</th>\n",
       "      <th>Value</th>\n",
       "      <th>Place</th>\n",
       "      <th>BCHC Requested Methodology</th>\n",
       "      <th>Source</th>\n",
       "      <th>Methods</th>\n",
       "      <th>Notes</th>\n",
       "      <th>90% Confidence Level - Low</th>\n",
       "      <th>90% Confidence Level - High</th>\n",
       "      <th>95% Confidence Level - Low</th>\n",
       "      <th>95% Confidence Level - High</th>\n",
       "    </tr>\n",
       "  </thead>\n",
       "  <tbody>\n",
       "    <tr>\n",
       "      <td>26701</td>\n",
       "      <td>Maternal and Child Health</td>\n",
       "      <td>Infant Mortality Rate (Per 1,000 live births)</td>\n",
       "      <td>2012</td>\n",
       "      <td>Both</td>\n",
       "      <td>White</td>\n",
       "      <td>5.0</td>\n",
       "      <td>San Antonio, TX</td>\n",
       "      <td>Infant deaths per 1,000 live births.</td>\n",
       "      <td>Bexar County resident, SA Metro Health Birth a...</td>\n",
       "      <td>NaN</td>\n",
       "      <td>Bexar County Residents</td>\n",
       "      <td>NaN</td>\n",
       "      <td>NaN</td>\n",
       "      <td>NaN</td>\n",
       "      <td>NaN</td>\n",
       "    </tr>\n",
       "  </tbody>\n",
       "</table>\n",
       "</div>"
      ],
      "text/plain": [
       "              Indicator Category  \\\n",
       "26701  Maternal and Child Health   \n",
       "\n",
       "                                           Indicator  Year   Sex  \\\n",
       "26701  Infant Mortality Rate (Per 1,000 live births)  2012  Both   \n",
       "\n",
       "      Race/Ethnicity  Value            Place  \\\n",
       "26701          White    5.0  San Antonio, TX   \n",
       "\n",
       "                 BCHC Requested Methodology  \\\n",
       "26701  Infant deaths per 1,000 live births.   \n",
       "\n",
       "                                                  Source Methods  \\\n",
       "26701  Bexar County resident, SA Metro Health Birth a...     NaN   \n",
       "\n",
       "                        Notes  90% Confidence Level - Low  \\\n",
       "26701  Bexar County Residents                         NaN   \n",
       "\n",
       "       90% Confidence Level - High  95% Confidence Level - Low  \\\n",
       "26701                          NaN                         NaN   \n",
       "\n",
       "       95% Confidence Level - High  \n",
       "26701                          NaN  "
      ]
     },
     "execution_count": 41,
     "metadata": {},
     "output_type": "execute_result"
    }
   ],
   "source": [
    "df.iloc[[26701]]"
   ]
  },
  {
   "cell_type": "markdown",
   "metadata": {},
   "source": [
    "### 7) Specifically, which factors does the indicator category 'Social and Economic Factors' consist of?"
   ]
  },
  {
   "cell_type": "markdown",
   "metadata": {},
   "source": [
    "Factors in Social and Economic Factors include:\n",
    "+ Median Household Income (Dollars)\n",
    "+ Percent Living Below 200% Poverty Level\n",
    "+ Percent of 3 and 4 Year Olds Currently Enrolled in Preschool\n",
    "+ Percent of Children Living in Poverty\n",
    "+ Percent of High School Graduates (Over Age 18)\n",
    "+ Percent of Households Whose Housing Costs Exceed 35% of Income\n",
    "+ Percent of Population Uninsured' 'Percent Unemployed."
   ]
  },
  {
   "cell_type": "code",
   "execution_count": 85,
   "metadata": {},
   "outputs": [
    {
     "name": "stdout",
     "output_type": "stream",
     "text": [
      "Factors in Social and Economic Factors:\n",
      "['Median Household Income (Dollars)'\n",
      " 'Percent Living Below 200% Poverty Level'\n",
      " 'Percent of 3 and 4 Year Olds Currently Enrolled in Preschool'\n",
      " 'Percent of Children Living in Poverty'\n",
      " 'Percent of High School Graduates (Over Age 18)'\n",
      " 'Percent of Households Whose Housing Costs Exceed 35% of Income'\n",
      " 'Percent of Population Uninsured' 'Percent Unemployed']\n"
     ]
    }
   ],
   "source": [
    "Social_Econ_Factors = (df['Indicator Category'] == 'Social and Economic Factors') \n",
    "factors = df.loc[Social_Econ_Factors]['Indicator'].unique() #Get all factors in Social and Economic Factors\n",
    "print('Factors in Social and Economic Factors:')\n",
    "print(factors)"
   ]
  },
  {
   "cell_type": "markdown",
   "metadata": {},
   "source": [
    "### 8) Visualize (e.g. with seaborn) the suicide rate of some specific race in the 3 most populous and 3 least populous cities over the period of the seven years. Explain in English each step, and show your Python code of each step."
   ]
  },
  {
   "cell_type": "code",
   "execution_count": 87,
   "metadata": {},
   "outputs": [],
   "source": [
    "import seaborn\n",
    "from matplotlib import pyplot"
   ]
  },
  {
   "cell_type": "code",
   "execution_count": 88,
   "metadata": {},
   "outputs": [
    {
     "data": {
      "text/plain": [
       "array([2010, 2011, 2012, 2013, 2014, 2015, 2016, 2018, 2017])"
      ]
     },
     "execution_count": 88,
     "metadata": {},
     "output_type": "execute_result"
    }
   ],
   "source": [
    "df['Year'].unique()  #Find range of years provided by the dataset"
   ]
  },
  {
   "cell_type": "code",
   "execution_count": 89,
   "metadata": {},
   "outputs": [
    {
     "data": {
      "text/plain": [
       "array(['All', 'American Indian/Alaska Native', 'Asian/PI', 'Black',\n",
       "       'Hispanic', 'Other', 'White', 'Multiracial', 'All '], dtype=object)"
      ]
     },
     "execution_count": 89,
     "metadata": {},
     "output_type": "execute_result"
    }
   ],
   "source": [
    "df['Race/Ethnicity'].unique()  #Find all ethnicities covered by dataset"
   ]
  },
  {
   "cell_type": "code",
   "execution_count": 90,
   "metadata": {},
   "outputs": [
    {
     "data": {
      "text/plain": [
       "array(['Washington, DC', 'Fort Worth (Tarrant County), TX',\n",
       "       'Oakland (Alameda County), CA', 'San Antonio, TX',\n",
       "       'U.S. Total, U.S. Total', 'San Diego County, CA',\n",
       "       'Kansas City, MO', 'Denver, CO', 'Las Vegas (Clark County), NV',\n",
       "       'Columbus, OH', 'Phoenix, AZ', 'Boston, MA', 'Houston, TX',\n",
       "       'Minneapolis, MN', 'Los Angeles, CA',\n",
       "       'Miami (Miami-Dade County), FL', 'Portland (Multnomah County), OR',\n",
       "       'Charlotte, NC', 'Baltimore, MD', 'Philadelphia, PA',\n",
       "       'Seattle, WA', 'Detroit, MI', 'New York City, NY',\n",
       "       'Long Beach, CA', 'Chicago, Il',\n",
       "       'Indianapolis (Marion County), IN', 'San Jose, CA',\n",
       "       'San Francisco, CA', 'Cleveland, OH', 'Dallas, TX', 'Austin, TX'],\n",
       "      dtype=object)"
      ]
     },
     "execution_count": 90,
     "metadata": {},
     "output_type": "execute_result"
    }
   ],
   "source": [
    "df['Place'].unique()"
   ]
  },
  {
   "cell_type": "markdown",
   "metadata": {},
   "source": [
    "All cities and rankings (based on population): (Source: https://en.wikipedia.org/wiki/List_of_United_States_cities_by_population)\n",
    "\n",
    "+ 'Washington, DC'  (#20)\n",
    "+ 'Fort Worth (Tarrant County), TX' (#13)\n",
    "+ 'Oakland (Alameda County), CA' (#45)\n",
    "+ 'San Antonio, TX' (#7)\n",
    "+ 'San Diego County, CA' (#8)\n",
    "+ 'Kansas City, MO' (#38)\n",
    "+ 'Denver, CO' (#19)\n",
    "+ 'Las Vegas (Clark County), NV' (#28)\n",
    "+ 'Columbus, OH' (#14)\n",
    "+ 'Phoenix, AZ' (#5)\n",
    "+ 'Boston, MA' (#21)\n",
    "+ 'Houston, TX' (#4)\n",
    "+ 'Minneapolis, MN' (#46)\n",
    "+ 'Los Angeles, CA' (#2)\n",
    "+ 'Miami (Miami-Dade County), FL' (#40)\n",
    "+ 'Portland (Multnomah County), OR' (#25)\n",
    "+ 'Charlotte, NC' (#16)\n",
    "+ 'Baltimore, MD' (#30)\n",
    "+ 'Philadelphia, PA' (#6)\n",
    "+ 'Seattle, WA' (#18)\n",
    "+ 'Detroit, MI' (#23)\n",
    "+ 'New York City, NY' (#1)\n",
    "+ 'Long Beach, CA' (#43)\n",
    "+ 'Chicago, Il' (#3)\n",
    "+ 'Indianapolis (Marion County), IN' (#17)\n",
    "+ 'San Jose, CA' (#10)\n",
    "+ 'San Francisco, CA' (#15)\n",
    "+ 'Cleveland, OH' (#52)\n",
    "+ 'Dallas, TX' (#9)\n",
    "+ 'Austin, TX' (#11)"
   ]
  },
  {
   "cell_type": "markdown",
   "metadata": {},
   "source": [
    "### Step 1: Find the 3 most populous cities in the list of Places:\n",
    "\n",
    "According to https://en.wikipedia.org/wiki/List_of_United_States_cities_by_population, the 3 most populous \n",
    "cities in the U.S. are \n",
    "+ New York City, NY (#1); \n",
    "+ Los Angeles, CA (#2); and \n",
    "+ Chicago, Il (#3)."
   ]
  },
  {
   "cell_type": "markdown",
   "metadata": {},
   "source": [
    "### Step 2: Find the 3 least populous cities in the list of Places. \n",
    "\n",
    "According to https://en.wikipedia.org/wiki/List_of_United_States_cities_by_population, the 3 least populous \n",
    "cities present in the list of Places are as follows: \n",
    "+ Cleveland, OH (#52); \n",
    "+ Minneapolis, MN (#46); and \n",
    "+ Oakland (Alameda County), CA (#45)."
   ]
  },
  {
   "cell_type": "markdown",
   "metadata": {},
   "source": [
    "### Step 3: Plot Suicide Rate of Each Race for Each Individual City\n",
    "\n",
    "In this step, I started out by creating a dataframe for suicide rates of each race in each individual city. I then created visualizations of suicide rates for each city using seaborn.lineplot()."
   ]
  },
  {
   "cell_type": "code",
   "execution_count": 177,
   "metadata": {},
   "outputs": [],
   "source": [
    "#Top 3 Most Populous Cities:\n",
    "#NYC:\n",
    "NYC_suicide = ((df['Place'] == 'New York City, NY') &\n",
    "              (df['Indicator'] == 'Suicide Rate (Age-Adjusted; Per 100,000 people)'))\n",
    "df_NYC_suicide = df[NYC_suicide]\n",
    "\n",
    "#LA:\n",
    "LA_suicide = ((df['Place'] == 'Los Angeles, CA') &\n",
    "              (df['Indicator'] == 'Suicide Rate (Age-Adjusted; Per 100,000 people)'))\n",
    "df_LA_suicide = df[LA_suicide]\n",
    "\n",
    "#Chicago\n",
    "Chicago_suicide = ((df['Place'] == 'Chicago, Il') &\n",
    "              (df['Indicator'] == 'Suicide Rate (Age-Adjusted; Per 100,000 people)'))\n",
    "df_Chicago_suicide = df[Chicago_suicide]\n",
    "\n",
    "\n",
    "\n",
    "#Top 3 Least Populous Cities:\n",
    "#Cleveland:\n",
    "Cleveland_suicide = ((df['Place'] == 'Cleveland, OH') &\n",
    "              (df['Indicator'] == 'Suicide Rate (Age-Adjusted; Per 100,000 people)'))\n",
    "df_Cleveland_suicide = df[Cleveland_suicide]\n",
    "\n",
    "#Minneapolis:\n",
    "Minneapolis_suicide = ((df['Place'] == 'Minneapolis, MN') &\n",
    "              (df['Indicator'] == 'Suicide Rate (Age-Adjusted; Per 100,000 people)'))\n",
    "df_Minneapolis_suicide = df[Minneapolis_suicide]\n",
    "\n",
    "#Oakland:\n",
    "Oakland_suicide = ((df['Place'] == 'Oakland (Alameda County), CA') &\n",
    "              (df['Indicator'] == 'Suicide Rate (Age-Adjusted; Per 100,000 people)'))\n",
    "df_Oakland_suicide = df[Oakland_suicide]"
   ]
  },
  {
   "cell_type": "markdown",
   "metadata": {},
   "source": [
    "#### Suicide Rates in NYC:"
   ]
  },
  {
   "cell_type": "code",
   "execution_count": 204,
   "metadata": {},
   "outputs": [
    {
     "data": {
      "text/plain": [
       "<matplotlib.axes._subplots.AxesSubplot at 0x12341bad0>"
      ]
     },
     "execution_count": 204,
     "metadata": {},
     "output_type": "execute_result"
    },
    {
     "data": {
      "image/png": "[encoded data removed]",
      "text/plain": [
       "<Figure size 432x288 with 1 Axes>"
      ]
     },
     "metadata": {
      "needs_background": "light"
     },
     "output_type": "display_data"
    }
   ],
   "source": [
    "#Suicide rate of each race in NYC\n",
    "seaborn.lineplot(x='Year', y='Value', hue='Race/Ethnicity', data= df_NYC_suicide)"
   ]
  },
  {
   "cell_type": "markdown",
   "metadata": {},
   "source": [
    "#### Suicide Rates in LA:"
   ]
  },
  {
   "cell_type": "code",
   "execution_count": 174,
   "metadata": {},
   "outputs": [
    {
     "data": {
      "text/plain": [
       "<matplotlib.axes._subplots.AxesSubplot at 0x12258a310>"
      ]
     },
     "execution_count": 174,
     "metadata": {},
     "output_type": "execute_result"
    },
    {
     "data": {
      "image/png": "[encoded data removed]",
      "text/plain": [
       "<Figure size 432x288 with 1 Axes>"
      ]
     },
     "metadata": {
      "needs_background": "light"
     },
     "output_type": "display_data"
    }
   ],
   "source": [
    "#Suicide rate of each race in LA\n",
    "seaborn.lineplot(x='Year', y='Value', hue='Race/Ethnicity', data= df_LA_suicide)"
   ]
  },
  {
   "cell_type": "markdown",
   "metadata": {},
   "source": [
    "#### Suicide Rates in Chicago:"
   ]
  },
  {
   "cell_type": "code",
   "execution_count": 175,
   "metadata": {},
   "outputs": [
    {
     "data": {
      "text/plain": [
       "<matplotlib.axes._subplots.AxesSubplot at 0x1226938d0>"
      ]
     },
     "execution_count": 175,
     "metadata": {},
     "output_type": "execute_result"
    },
    {
     "data": {
      "image/png": "[encoded data removed]",
      "text/plain": [
       "<Figure size 432x288 with 1 Axes>"
      ]
     },
     "metadata": {
      "needs_background": "light"
     },
     "output_type": "display_data"
    }
   ],
   "source": [
    "#Suicide rate of each race in Chicago\n",
    "seaborn.lineplot(x='Year', y='Value', hue='Race/Ethnicity', data= df_Chicago_suicide)"
   ]
  },
  {
   "cell_type": "markdown",
   "metadata": {},
   "source": [
    "#### Suicide Rates in Cleveland:"
   ]
  },
  {
   "cell_type": "code",
   "execution_count": 178,
   "metadata": {},
   "outputs": [
    {
     "data": {
      "text/plain": [
       "<matplotlib.axes._subplots.AxesSubplot at 0x122793810>"
      ]
     },
     "execution_count": 178,
     "metadata": {},
     "output_type": "execute_result"
    },
    {
     "data": {
      "image/png": "[encoded data removed]",
      "text/plain": [
       "<Figure size 432x288 with 1 Axes>"
      ]
     },
     "metadata": {
      "needs_background": "light"
     },
     "output_type": "display_data"
    }
   ],
   "source": [
    "#Suicide rate of each race in Cleveland\n",
    "seaborn.lineplot(x='Year', y='Value', hue='Race/Ethnicity', data= df_Cleveland_suicide)"
   ]
  },
  {
   "cell_type": "markdown",
   "metadata": {},
   "source": [
    "#### Suicide Rates in Minneapolis:"
   ]
  },
  {
   "cell_type": "code",
   "execution_count": 179,
   "metadata": {},
   "outputs": [
    {
     "data": {
      "text/plain": [
       "<matplotlib.axes._subplots.AxesSubplot at 0x1228aa550>"
      ]
     },
     "execution_count": 179,
     "metadata": {},
     "output_type": "execute_result"
    },
    {
     "data": {
      "image/png": "[encoded data removed]",
      "text/plain": [
       "<Figure size 432x288 with 1 Axes>"
      ]
     },
     "metadata": {
      "needs_background": "light"
     },
     "output_type": "display_data"
    }
   ],
   "source": [
    "#Suicide rate of each race in Minneapolis\n",
    "seaborn.lineplot(x='Year', y='Value', hue='Race/Ethnicity', data= df_Minneapolis_suicide)"
   ]
  },
  {
   "cell_type": "markdown",
   "metadata": {},
   "source": [
    "#### Suicide Rates in Oakland:"
   ]
  },
  {
   "cell_type": "code",
   "execution_count": 181,
   "metadata": {},
   "outputs": [
    {
     "data": {
      "text/plain": [
       "<matplotlib.axes._subplots.AxesSubplot at 0x122aee150>"
      ]
     },
     "execution_count": 181,
     "metadata": {},
     "output_type": "execute_result"
    },
    {
     "data": {
      "image/png": "[encoded data removed]",
      "text/plain": [
       "<Figure size 432x288 with 1 Axes>"
      ]
     },
     "metadata": {
      "needs_background": "light"
     },
     "output_type": "display_data"
    }
   ],
   "source": [
    "#Suicide rate of each race in Oakland\n",
    "seaborn.lineplot(x='Year', y='Value', hue='Race/Ethnicity', data= df_Oakland_suicide)"
   ]
  },
  {
   "cell_type": "markdown",
   "metadata": {},
   "source": [
    "### Step 4: Plot White Suicide Rates per Year for the Top 3 Most and Least Populous Cities"
   ]
  },
  {
   "cell_type": "code",
   "execution_count": 184,
   "metadata": {},
   "outputs": [],
   "source": [
    "White_suicide = ((df['Race/Ethnicity'] == 'White') &\n",
    "        ((df['Place'] == 'New York City, NY') | (df['Place'] == 'Los Angeles, CA') | (df['Place'] =='Chicago, Il')\n",
    "        | (df['Place'] == 'Cleveland, OH') | (df['Place'] == 'Minneapolis, MN') | (df['Place'] =='Oakland (Alameda County), CA')) &\n",
    "              (df['Indicator'] == 'Suicide Rate (Age-Adjusted; Per 100,000 people)'))\n",
    "            #(df['Race/Ethnicity'] == 'White') \n",
    "df_White_suicide = df[White_suicide]"
   ]
  },
  {
   "cell_type": "code",
   "execution_count": 185,
   "metadata": {},
   "outputs": [
    {
     "data": {
      "text/plain": [
       "<matplotlib.axes._subplots.AxesSubplot at 0x122d239d0>"
      ]
     },
     "execution_count": 185,
     "metadata": {},
     "output_type": "execute_result"
    },
    {
     "data": {
      "image/png": "[encoded data removed]",
      "text/plain": [
       "<Figure size 432x288 with 1 Axes>"
      ]
     },
     "metadata": {
      "needs_background": "light"
     },
     "output_type": "display_data"
    }
   ],
   "source": [
    "# White suicide rates per Year for Top 3 Most and Least Populous Cities: \n",
    "seaborn.lineplot(x='Year', y='Value', hue='Place', data= df_White_suicide_most_pop)"
   ]
  },
  {
   "cell_type": "markdown",
   "metadata": {},
   "source": [
    "### Step 5: Plot Hispanic Suicide Rates per Year for the Top 3 Most and Least Populous Cities"
   ]
  },
  {
   "cell_type": "code",
   "execution_count": 186,
   "metadata": {},
   "outputs": [],
   "source": [
    "Hispanic_suicide = ((df['Race/Ethnicity'] == 'Hispanic') &\n",
    "        ((df['Place'] == 'New York City, NY') | (df['Place'] == 'Los Angeles, CA') | (df['Place'] =='Chicago, Il')\n",
    "        | (df['Place'] == 'Cleveland, OH') | (df['Place'] == 'Minneapolis, MN') | (df['Place'] =='Oakland (Alameda County), CA')) &\n",
    "              (df['Indicator'] == 'Suicide Rate (Age-Adjusted; Per 100,000 people)'))\n",
    "            #(df['Race/Ethnicity'] == 'White') \n",
    "df_Hispanic_suicide= df[Hispanic_suicide]"
   ]
  },
  {
   "cell_type": "code",
   "execution_count": 187,
   "metadata": {},
   "outputs": [
    {
     "data": {
      "text/plain": [
       "<matplotlib.axes._subplots.AxesSubplot at 0x122e3c650>"
      ]
     },
     "execution_count": 187,
     "metadata": {},
     "output_type": "execute_result"
    },
    {
     "data": {
      "image/png": "[encoded data removed]",
      "text/plain": [
       "<Figure size 432x288 with 1 Axes>"
      ]
     },
     "metadata": {
      "needs_background": "light"
     },
     "output_type": "display_data"
    }
   ],
   "source": [
    "# Hispanic suicide rates per Year for Top 3 Most and Least Populous Cities: \n",
    "seaborn.lineplot(x='Year', y='Value', hue='Place', data= df_Hispanic_suicide)"
   ]
  },
  {
   "cell_type": "markdown",
   "metadata": {},
   "source": [
    "### Step 6: Plot Asian/PI Suicide Rates per Year for the Top 3 Most and Least Populous Cities"
   ]
  },
  {
   "cell_type": "code",
   "execution_count": 188,
   "metadata": {},
   "outputs": [],
   "source": [
    "Asian_PI_suicide = ((df['Race/Ethnicity'] == 'Asian/PI') &\n",
    "        ((df['Place'] == 'New York City, NY') | (df['Place'] == 'Los Angeles, CA') | (df['Place'] =='Chicago, Il')\n",
    "        | (df['Place'] == 'Cleveland, OH') | (df['Place'] == 'Minneapolis, MN') | (df['Place'] =='Oakland (Alameda County), CA')) &\n",
    "              (df['Indicator'] == 'Suicide Rate (Age-Adjusted; Per 100,000 people)'))\n",
    "            \n",
    "df_Asian_PI_suicide= df[Asian_PI_suicide]"
   ]
  },
  {
   "cell_type": "code",
   "execution_count": 193,
   "metadata": {},
   "outputs": [
    {
     "data": {
      "text/plain": [
       "<matplotlib.axes._subplots.AxesSubplot at 0x1216a5a10>"
      ]
     },
     "execution_count": 193,
     "metadata": {},
     "output_type": "execute_result"
    },
    {
     "data": {
      "image/png": "[encoded data removed]",
      "text/plain": [
       "<Figure size 432x288 with 1 Axes>"
      ]
     },
     "metadata": {
      "needs_background": "light"
     },
     "output_type": "display_data"
    }
   ],
   "source": [
    "# Asian/PI suicide rates per Year for Top 3 Most and Least Populous Cities: \n",
    "seaborn.lineplot(x='Year', y='Value', hue='Place', data= df_Asian_PI_suicide)"
   ]
  },
  {
   "cell_type": "markdown",
   "metadata": {},
   "source": [
    "### Step 7: Plot Black Suicide Rates per Year for the Top 3 Most and Least Populous Cities"
   ]
  },
  {
   "cell_type": "code",
   "execution_count": 194,
   "metadata": {},
   "outputs": [],
   "source": [
    "Black_suicide = ((df['Race/Ethnicity'] == 'Black') &\n",
    "        ((df['Place'] == 'New York City, NY') | (df['Place'] == 'Los Angeles, CA') | (df['Place'] =='Chicago, Il')\n",
    "        | (df['Place'] == 'Cleveland, OH') | (df['Place'] == 'Minneapolis, MN') | (df['Place'] =='Oakland (Alameda County), CA')) &\n",
    "              (df['Indicator'] == 'Suicide Rate (Age-Adjusted; Per 100,000 people)'))\n",
    "            \n",
    "df_Black_suicide = df[Black_suicide]"
   ]
  },
  {
   "cell_type": "code",
   "execution_count": 195,
   "metadata": {},
   "outputs": [
    {
     "data": {
      "text/plain": [
       "<matplotlib.axes._subplots.AxesSubplot at 0x1230923d0>"
      ]
     },
     "execution_count": 195,
     "metadata": {},
     "output_type": "execute_result"
    },
    {
     "data": {
      "image/png": "[encoded data removed]",
      "text/plain": [
       "<Figure size 432x288 with 1 Axes>"
      ]
     },
     "metadata": {
      "needs_background": "light"
     },
     "output_type": "display_data"
    }
   ],
   "source": [
    "# Black suicide rates per Year for Top 3 Most and Least Populous Cities: \n",
    "seaborn.lineplot(x='Year', y='Value', hue='Place', data= df_Black_suicide)"
   ]
  },
  {
   "cell_type": "markdown",
   "metadata": {},
   "source": [
    "### Step 8: Plot American Indian/Alaska Native Suicide Rates per Year for the Top 3 Most and Least Populous Cities"
   ]
  },
  {
   "cell_type": "code",
   "execution_count": 198,
   "metadata": {},
   "outputs": [
    {
     "data": {
      "text/plain": [
       "array(['Minneapolis, MN'], dtype=object)"
      ]
     },
     "execution_count": 198,
     "metadata": {},
     "output_type": "execute_result"
    }
   ],
   "source": [
    "AI_AN_suicide = ((df['Race/Ethnicity'] == 'American Indian/Alaska Native') &\n",
    "        ((df['Place'] == 'New York City, NY') | (df['Place'] == 'Los Angeles, CA') | (df['Place'] =='Chicago, Il')\n",
    "        | (df['Place'] == 'Cleveland, OH') | (df['Place'] == 'Minneapolis, MN') | (df['Place'] =='Oakland (Alameda County), CA')) &\n",
    "              (df['Indicator'] == 'Suicide Rate (Age-Adjusted; Per 100,000 people)'))\n",
    "            \n",
    "df_AI_AN_suicide = df[AI_AN_suicide]\n",
    "df_AI_AN_suicide['Place'].unique()"
   ]
  },
  {
   "cell_type": "code",
   "execution_count": 199,
   "metadata": {},
   "outputs": [
    {
     "data": {
      "text/plain": [
       "<matplotlib.axes._subplots.AxesSubplot at 0x123274450>"
      ]
     },
     "execution_count": 199,
     "metadata": {},
     "output_type": "execute_result"
    },
    {
     "data": {
      "image/png": "[encoded data removed]",
      "text/plain": [
       "<Figure size 432x288 with 1 Axes>"
      ]
     },
     "metadata": {
      "needs_background": "light"
     },
     "output_type": "display_data"
    }
   ],
   "source": [
    "#American Indian/Alaska Native suicide rates per Year for Top 3 Most and Least Populous Cities: \n",
    "seaborn.lineplot(x='Year', y='Value', hue='Place', data= df_AI_AN_suicide)"
   ]
  },
  {
   "cell_type": "code",
   "execution_count": null,
   "metadata": {},
   "outputs": [],
   "source": []
  }
 ],
 "metadata": {
  "anaconda-cloud": {},
  "kernelspec": {
   "display_name": "Python 3",
   "language": "python",
   "name": "python3"
  },
  "language_info": {
   "codemirror_mode": {
    "name": "ipython",
    "version": 3
   },
   "file_extension": ".py",
   "mimetype": "text/x-python",
   "name": "python",
   "nbconvert_exporter": "python",
   "pygments_lexer": "ipython3",
   "version": "3.7.4"
  }
 },
 "nbformat": 4,
 "nbformat_minor": 2
}

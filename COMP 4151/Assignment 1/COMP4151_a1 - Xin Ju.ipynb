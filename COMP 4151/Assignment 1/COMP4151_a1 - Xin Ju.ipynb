{
 "cells": [
  {
   "cell_type": "markdown",
   "metadata": {},
   "source": [
    "# COMP 4151\n",
    "# Assignment 1\n",
    "\n",
    "## Due: 9/12/2019"
   ]
  },
  {
   "cell_type": "markdown",
   "metadata": {},
   "source": [
    "## Name:"
   ]
  },
  {
   "cell_type": "markdown",
   "metadata": {},
   "source": [
    "**Note**: \n",
    "\n",
    "- All work in this assignment must be done, created, originated from each student. \n",
    "- All external assistance must be explicitly mentioned and cited. \n",
    "- Using work done by others without explicit citation is considered cheating. \n",
    "- A student will receive a zero grade on the assignment for cheating. \n",
    "- Repeated offence will lead to additional consequences."
   ]
  },
  {
   "cell_type": "markdown",
   "metadata": {},
   "source": [
    "### Dataset to use for this assignment\n",
    "\n",
    "Source:\n",
    "https://umdrive.memphis.edu/vphan/public/4151/MPD_Crime_Numbers.csv\n",
    "\n",
    "This dataset has information about crime in Memphis in recent years."
   ]
  },
  {
   "cell_type": "markdown",
   "metadata": {},
   "source": [
    "#### Question 1: Write a Python function called load_data to load the csv file into a list of rows."
   ]
  },
  {
   "cell_type": "code",
   "execution_count": 2,
   "metadata": {},
   "outputs": [],
   "source": [
    "def load_data(filename):\n",
    "    #Open file \n",
    "    fp = open(filename)\n",
    "    lines = fp.readlines()\n",
    "    fp.close()\n",
    "    \n",
    "    #List of Rows(lines)\n",
    "    data = [] #Create new list\n",
    "    for line in lines:\n",
    "        line = line.strip() #Removes trailing line resulting from '\\n' from each row/line\n",
    "        data.append(line)\n",
    "    return data\n"
   ]
  },
  {
   "cell_type": "code",
   "execution_count": 3,
   "metadata": {},
   "outputs": [
    {
     "name": "stdout",
     "output_type": "stream",
     "text": [
      "MPD_Crime_Numbers\n",
      "MONTHYEAR,MONTH,YEAR,CATEGORY,COUNT,Month_YOY_Percent_Change,MonthOrder,Count YTD,YTD_Percent_Change\n",
      "01/01/2006 12:00:00 AM,January,2006,Major Property Crime,4603,,1,4603,\n",
      "01/01/2006 12:00:00 AM,January,2006,Major Violent Crime,992,,1,992,\n",
      "02/01/2006 12:00:00 AM,February,2006,Major Property Crime,3552,,2,8155,\n",
      "02/01/2006 12:00:00 AM,February,2006,Major Violent Crime,716,,2,1708,\n",
      "03/01/2006 12:00:00 AM,March,2006,Major Property Crime,4465,,3,12620,\n",
      "03/01/2006 12:00:00 AM,March,2006,Major Violent Crime,912,,3,2620,\n",
      "04/01/2006 12:00:00 AM,April,2006,Major Property Crime,4697,,4,17317,\n",
      "04/01/2006 12:00:00 AM,April,2006,Major Violent Crime,1028,,4,3648,\n",
      "05/01/2006 12:00:00 AM,May,2006,Major Property Crime,5195,,5,22512,\n",
      "05/01/2006 12:00:00 AM,May,2006,Major Violent Crime,1066,,5,4714,\n",
      "06/01/2006 12:00:00 AM,June,2006,Major Property Crime,4697,,6,27209,\n",
      "06/01/2006 12:00:00 AM,June,2006,Major Violent Crime,1085,,6,5799,\n",
      "07/01/2006 12:00:00 AM,July,2006,Major Property Crime,5276,,7,32485,\n",
      "07/01/2006 12:00:00 AM,July,2006,Major Violent Crime,1139,,7,6938,\n",
      "08/01/2006 12:00:00 AM,August,2006,Major Property Crime,5450,,8,37935,\n",
      "08/01/2006 12:00:00 AM,August,2006,Major Violent Crime,1099,,8,8037,\n",
      "09/01/2006 12:00:00 AM,September,2006,Major Property Crime,5082,,9,43017,\n",
      "09/01/2006 12:00:00 AM,September,2006,Major Violent Crime,1037,,9,9074,\n",
      "10/01/2006 12:00:00 AM,October,2006,Major Property Crime,4851,,10,47868,\n",
      "10/01/2006 12:00:00 AM,October,2006,Major Violent Crime,928,,10,10002,\n",
      "11/01/2006 12:00:00 AM,November,2006,Major Property Crime,4509,,11,52377,\n",
      "11/01/2006 12:00:00 AM,November,2006,Major Violent Crime,863,,11,10865,\n",
      "12/01/2006 12:00:00 AM,December,2006,Major Property Crime,4469,,12,56846,\n",
      "12/01/2006 12:00:00 AM,December,2006,Major Violent Crime,833,,12,11698,\n",
      "01/01/2016 12:00:00 AM,January,2016,Major Property Crime,2835,,1,2825,\n",
      "01/01/2016 12:00:00 AM,January,2016,Major Violent Crime,771,,1,768,\n",
      "02/01/2016 12:00:00 AM,February,2016,Major Property Crime,2291,,2,5115,\n",
      "02/01/2016 12:00:00 AM,February,2016,Major Violent Crime,617,,2,1382,\n",
      "03/01/2016 12:00:00 AM,March,2016,Major Property Crime,2585,,3,7692,\n",
      "03/01/2016 12:00:00 AM,March,2016,Major Violent Crime,687,,3,2068,\n",
      "04/01/2016 12:00:00 AM,April,2016,Major Property Crime,2925,,4,10615,\n",
      "04/01/2016 12:00:00 AM,April,2016,Major Violent Crime,692,,4,2758,\n",
      "05/01/2016 12:00:00 AM,May,2016,Major Property Crime,3332,,5,13941,\n",
      "05/01/2016 12:00:00 AM,May,2016,Major Violent Crime,815,,5,3570,\n",
      "06/01/2016 12:00:00 AM,June,2016,Major Property Crime,3066,,6,17003,\n",
      "06/01/2016 12:00:00 AM,June,2016,Major Violent Crime,781,,6,4348,\n",
      "07/01/2016 12:00:00 AM,July,2016,Major Property Crime,3354,,7,20357,\n",
      "07/01/2016 12:00:00 AM,July,2016,Major Violent Crime,766,,7,5112,\n",
      "08/01/2016 12:00:00 AM,August,2016,Major Property Crime,3704,,8,24056,\n",
      "08/01/2016 12:00:00 AM,August,2016,Major Violent Crime,904,,8,6009,\n",
      "09/01/2016 12:00:00 AM,September,2016,Major Property Crime,3323,,9,27375,\n",
      "09/01/2016 12:00:00 AM,September,2016,Major Violent Crime,792,,9,6794,\n",
      "10/01/2016 12:00:00 AM,October,2016,Major Property Crime,3369,,10,30740,\n",
      "10/01/2016 12:00:00 AM,October,2016,Major Violent Crime,845,,10,7634,\n",
      "11/01/2016 12:00:00 AM,November,2016,Major Property Crime,3242,,11,33978,\n",
      "11/01/2016 12:00:00 AM,November,2016,Major Violent Crime,706,,11,8335,\n",
      "12/01/2016 12:00:00 AM,December,2016,Major Property Crime,3205,,12,37177,\n",
      "12/01/2016 12:00:00 AM,December,2016,Major Violent Crime,746,,12,9081,\n",
      "01/01/2017 12:00:00 AM,January,2017,Major Property Crime,3308,16.68,1,3308,17.1\n",
      "01/01/2017 12:00:00 AM,January,2017,Major Violent Crime,844,9.47,1,844,9.9\n",
      "02/01/2017 12:00:00 AM,February,2017,Major Property Crime,2705,18.07,2,6013,17.56\n",
      "02/01/2017 12:00:00 AM,February,2017,Major Violent Crime,593,-3.89,2,1437,3.98\n",
      "03/01/2017 12:00:00 AM,March,2017,Major Property Crime,3036,17.45,3,9049,17.64\n",
      "03/01/2017 12:00:00 AM,March,2017,Major Violent Crime,726,5.68,3,2163,4.59\n",
      "04/01/2017 12:00:00 AM,April,2017,Major Property Crime,3216,9.95,4,12265,15.54\n",
      "04/01/2017 12:00:00 AM,April,2017,Major Violent Crime,804,16.18,4,2967,7.58\n",
      "05/01/2017 12:00:00 AM,May,2017,Major Property Crime,3465,3.99,5,15730,12.83\n",
      "05/01/2017 12:00:00 AM,May,2017,Major Violent Crime,962,18.04,5,3929,10.06\n",
      "06/01/2017 12:00:00 AM,June,2017,Major Property Crime,3370,9.92,6,19100,12.33\n",
      "06/01/2017 12:00:00 AM,June,2017,Major Violent Crime,928,18.82,6,4857,11.71\n",
      "07/01/2017 12:00:00 AM,July,2017,Major Property Crime,3696,10.2,7,22796,11.98\n",
      "07/01/2017 12:00:00 AM,July,2017,Major Violent Crime,916,19.58,7,5773,12.93\n",
      "08/01/2017 12:00:00 AM,August,2017,Major Property Crime,3833,3.48,8,26576,10.48\n",
      "08/01/2017 12:00:00 AM,August,2017,Major Violent Crime,905,0.11,8,6678,11.13\n",
      "09/01/2017 12:00:00 AM,September,2017,Major Property Crime,3783,13.84,9,30359,10.9\n",
      "09/01/2017 12:00:00 AM,September,2017,Major Violent Crime,834,5.3,9,7512,10.57\n",
      "10/01/2017 12:00:00 AM,October,2017,Major Property Crime,3651,8.37,10,34010,10.64\n",
      "10/01/2017 12:00:00 AM,October,2017,Major Violent Crime,839,-0.71,10,8351,9.39\n",
      "11/01/2017 12:00:00 AM,November,2017,Major Property Crime,3466,6.91,11,37476,10.29\n",
      "11/01/2017 12:00:00 AM,November,2017,Major Violent Crime,773,9.49,11,9124,9.47\n",
      "12/01/2017 12:00:00 AM,December,2017,Major Property Crime,3679,14.79,12,41155,10.7\n",
      "12/01/2017 12:00:00 AM,December,2017,Major Violent Crime,727,-2.55,12,9851,8.48\n",
      "01/01/2018 12:00:00 AM,January,2018,Major Property Crime,3571,7.95,1,3571,7.95\n",
      "01/01/2018 12:00:00 AM,January,2018,Major Violent Crime,754,-10.66,1,754,-10.66\n",
      "02/01/2018 12:00:00 AM,February,2018,Major Property Crime,3000,10.91,2,6571,9.28\n",
      "02/01/2018 12:00:00 AM,February,2018,Major Violent Crime,575,-3.04,2,1329,-7.52\n",
      "03/01/2018 12:00:00 AM,March,2018,Major Property Crime,3026,-0.33,3,9597,6.06\n",
      "03/01/2018 12:00:00 AM,March,2018,Major Violent Crime,695,-4.27,3,2024,-6.43\n",
      "04/01/2018 12:00:00 AM,April,2018,Major Property Crime,3311,2.95,4,12908,5.24\n",
      "04/01/2018 12:00:00 AM,April,2018,Major Violent Crime,712,-11.44,4,2736,-7.79\n",
      "05/01/2018 12:00:00 AM,May,2018,Major Property Crime,3750,8.23,5,16658,5.9\n",
      "05/01/2018 12:00:00 AM,May,2018,Major Violent Crime,853,-11.33,5,3589,-8.65\n",
      "06/01/2018 12:00:00 AM,June,2018,Major Property Crime,3655,8.46,6,20313,6.35\n",
      "06/01/2018 12:00:00 AM,June,2018,Major Violent Crime,873,-5.93,6,4462,-8.13\n",
      "07/01/2018 12:00:00 AM,July,2018,Major Property Crime,3875,4.84,7,24188,6.11\n",
      "07/01/2018 12:00:00 AM,July,2018,Major Violent Crime,942,2.84,7,5404,-6.39\n",
      "08/01/2018 12:00:00 AM,August,2018,Major Property Crime,3749,-2.19,8,27937,5.12\n",
      "08/01/2018 12:00:00 AM,August,2018,Major Violent Crime,828,-8.51,8,6232,-6.68\n",
      "09/01/2018 12:00:00 AM,September,2018,Major Property Crime,3681,-2.7,9,31618,4.15\n",
      "09/01/2018 12:00:00 AM,September,2018,Major Violent Crime,877,5.16,9,7109,-5.36\n",
      "10/01/2018 12:00:00 AM,October,2018,Major Property Crime,3669,0.49,10,35287,3.75\n",
      "10/01/2018 12:00:00 AM,October,2018,Major Violent Crime,791,-5.72,10,7900,-5.4\n",
      "11/01/2018 12:00:00 AM,November,2018,Major Property Crime,3266,-5.77,11,38553,2.87\n",
      "11/01/2018 12:00:00 AM,November,2018,Major Violent Crime,677,-12.42,11,8577,-6\n",
      "12/01/2018 12:00:00 AM,December,2018,Major Property Crime,3456,-6.06,12,42009,2.08\n",
      "12/01/2018 12:00:00 AM,December,2018,Major Violent Crime,714,-1.79,12,9291,-5.68\n",
      "01/01/2019 12:00:00 AM,January,2019,Major Property Crime,3254,-8.88,1,3254,-8.88\n",
      "01/01/2019 12:00:00 AM,January,2019,Major Violent Crime,725,-3.85,1,725,-3.85\n",
      "02/01/2019 12:00:00 AM,February,2019,Major Property Crime,2929,-2.37,2,6183,-5.9\n",
      "02/01/2019 12:00:00 AM,February,2019,Major Violent Crime,545,-5.22,2,1270,-4.44\n",
      "03/01/2019 12:00:00 AM,March,2019,Major Property Crime,2782,-8.06,3,8965,-6.59\n",
      "03/01/2019 12:00:00 AM,March,2019,Major Violent Crime,647,-6.91,3,1917,-5.29\n",
      "04/01/2019 12:00:00 AM,April,2019,Major Property Crime,3194,-3.53,4,12159,-5.8\n",
      "04/01/2019 12:00:00 AM,April,2019,Major Violent Crime,716,0.56,4,2633,-3.76\n",
      "05/01/2019 12:00:00 AM,May,2019,Major Property Crime,3495,-6.8,5,15654,-6.03\n",
      "05/01/2019 12:00:00 AM,May,2019,Major Violent Crime,760,-10.9,5,3393,-5.46\n",
      "06/01/2019 12:00:00 AM,June,2019,Major Property Crime,3452,-5.55,6,19106,-5.94\n",
      "06/01/2019 12:00:00 AM,June,2019,Major Violent Crime,792,-9.28,6,4185,-6.21\n"
     ]
    }
   ],
   "source": [
    "#Example:\n",
    "data_src = '/Users/XinJu/Desktop/Fall 2019/COMP 4151/Datasets/MPD_Crime_Numbers.csv'\n",
    "data = load_data(data_src) \n",
    "\n",
    "for line in data: #Iterate through data\n",
    "    print(line)\n"
   ]
  },
  {
   "cell_type": "markdown",
   "metadata": {},
   "source": [
    "#### Question 2: Write a clean_up Python function to extract the header, convert to proper types of items of each data point (row)."
   ]
  },
  {
   "cell_type": "code",
   "execution_count": 4,
   "metadata": {},
   "outputs": [],
   "source": [
    "def clean_up(unprocessed_list_of_rows):\n",
    "    header = [] \n",
    "    processed_data = [] #To store processed data after header\n",
    "   \n",
    "    for i in range(len(unprocessed_list_of_rows)): #iterate through every row of dataset\n",
    "        if i==0:\n",
    "            header = unprocessed_list_of_rows[i].split(',') #Extract header and split by ','\n",
    "        else:\n",
    "            items_list = unprocessed_list_of_rows[i].split(',') #Split row i into items by ','\n",
    "            \n",
    "            def is_float(x): #Function for checking if item is a float\n",
    "                try:\n",
    "                    float(x)\n",
    "                    return True\n",
    "                except:\n",
    "                    return False\n",
    "            \n",
    "            processed_line = [] #for storing each processed row\n",
    "            for item in items_list: #for each item in row i, check if it is a float\n",
    "                if is_float(item):\n",
    "                    processed_line.append(float(item))\n",
    "                else:\n",
    "                    processed_line.append(item)\n",
    "            \n",
    "            processed_data.append(processed_line)\n",
    "     \n",
    "    return header, processed_data\n",
    "    "
   ]
  },
  {
   "cell_type": "code",
   "execution_count": 5,
   "metadata": {},
   "outputs": [
    {
     "name": "stdout",
     "output_type": "stream",
     "text": [
      "Header: ['MPD_Crime_Numbers']\n",
      "Processed Data:\n",
      "['MONTHYEAR', 'MONTH', 'YEAR', 'CATEGORY', 'COUNT', 'Month_YOY_Percent_Change', 'MonthOrder', 'Count YTD', 'YTD_Percent_Change']\n",
      "['01/01/2006 12:00:00 AM', 'January', 2006.0, 'Major Property Crime', 4603.0, '', 1.0, 4603.0, '']\n",
      "['01/01/2006 12:00:00 AM', 'January', 2006.0, 'Major Violent Crime', 992.0, '', 1.0, 992.0, '']\n",
      "['02/01/2006 12:00:00 AM', 'February', 2006.0, 'Major Property Crime', 3552.0, '', 2.0, 8155.0, '']\n",
      "['02/01/2006 12:00:00 AM', 'February', 2006.0, 'Major Violent Crime', 716.0, '', 2.0, 1708.0, '']\n",
      "['03/01/2006 12:00:00 AM', 'March', 2006.0, 'Major Property Crime', 4465.0, '', 3.0, 12620.0, '']\n",
      "['03/01/2006 12:00:00 AM', 'March', 2006.0, 'Major Violent Crime', 912.0, '', 3.0, 2620.0, '']\n",
      "['04/01/2006 12:00:00 AM', 'April', 2006.0, 'Major Property Crime', 4697.0, '', 4.0, 17317.0, '']\n",
      "['04/01/2006 12:00:00 AM', 'April', 2006.0, 'Major Violent Crime', 1028.0, '', 4.0, 3648.0, '']\n",
      "['05/01/2006 12:00:00 AM', 'May', 2006.0, 'Major Property Crime', 5195.0, '', 5.0, 22512.0, '']\n",
      "['05/01/2006 12:00:00 AM', 'May', 2006.0, 'Major Violent Crime', 1066.0, '', 5.0, 4714.0, '']\n",
      "['06/01/2006 12:00:00 AM', 'June', 2006.0, 'Major Property Crime', 4697.0, '', 6.0, 27209.0, '']\n",
      "['06/01/2006 12:00:00 AM', 'June', 2006.0, 'Major Violent Crime', 1085.0, '', 6.0, 5799.0, '']\n",
      "['07/01/2006 12:00:00 AM', 'July', 2006.0, 'Major Property Crime', 5276.0, '', 7.0, 32485.0, '']\n",
      "['07/01/2006 12:00:00 AM', 'July', 2006.0, 'Major Violent Crime', 1139.0, '', 7.0, 6938.0, '']\n",
      "['08/01/2006 12:00:00 AM', 'August', 2006.0, 'Major Property Crime', 5450.0, '', 8.0, 37935.0, '']\n",
      "['08/01/2006 12:00:00 AM', 'August', 2006.0, 'Major Violent Crime', 1099.0, '', 8.0, 8037.0, '']\n",
      "['09/01/2006 12:00:00 AM', 'September', 2006.0, 'Major Property Crime', 5082.0, '', 9.0, 43017.0, '']\n",
      "['09/01/2006 12:00:00 AM', 'September', 2006.0, 'Major Violent Crime', 1037.0, '', 9.0, 9074.0, '']\n",
      "['10/01/2006 12:00:00 AM', 'October', 2006.0, 'Major Property Crime', 4851.0, '', 10.0, 47868.0, '']\n",
      "['10/01/2006 12:00:00 AM', 'October', 2006.0, 'Major Violent Crime', 928.0, '', 10.0, 10002.0, '']\n",
      "['11/01/2006 12:00:00 AM', 'November', 2006.0, 'Major Property Crime', 4509.0, '', 11.0, 52377.0, '']\n",
      "['11/01/2006 12:00:00 AM', 'November', 2006.0, 'Major Violent Crime', 863.0, '', 11.0, 10865.0, '']\n",
      "['12/01/2006 12:00:00 AM', 'December', 2006.0, 'Major Property Crime', 4469.0, '', 12.0, 56846.0, '']\n",
      "['12/01/2006 12:00:00 AM', 'December', 2006.0, 'Major Violent Crime', 833.0, '', 12.0, 11698.0, '']\n",
      "['01/01/2016 12:00:00 AM', 'January', 2016.0, 'Major Property Crime', 2835.0, '', 1.0, 2825.0, '']\n",
      "['01/01/2016 12:00:00 AM', 'January', 2016.0, 'Major Violent Crime', 771.0, '', 1.0, 768.0, '']\n",
      "['02/01/2016 12:00:00 AM', 'February', 2016.0, 'Major Property Crime', 2291.0, '', 2.0, 5115.0, '']\n",
      "['02/01/2016 12:00:00 AM', 'February', 2016.0, 'Major Violent Crime', 617.0, '', 2.0, 1382.0, '']\n",
      "['03/01/2016 12:00:00 AM', 'March', 2016.0, 'Major Property Crime', 2585.0, '', 3.0, 7692.0, '']\n",
      "['03/01/2016 12:00:00 AM', 'March', 2016.0, 'Major Violent Crime', 687.0, '', 3.0, 2068.0, '']\n",
      "['04/01/2016 12:00:00 AM', 'April', 2016.0, 'Major Property Crime', 2925.0, '', 4.0, 10615.0, '']\n",
      "['04/01/2016 12:00:00 AM', 'April', 2016.0, 'Major Violent Crime', 692.0, '', 4.0, 2758.0, '']\n",
      "['05/01/2016 12:00:00 AM', 'May', 2016.0, 'Major Property Crime', 3332.0, '', 5.0, 13941.0, '']\n",
      "['05/01/2016 12:00:00 AM', 'May', 2016.0, 'Major Violent Crime', 815.0, '', 5.0, 3570.0, '']\n",
      "['06/01/2016 12:00:00 AM', 'June', 2016.0, 'Major Property Crime', 3066.0, '', 6.0, 17003.0, '']\n",
      "['06/01/2016 12:00:00 AM', 'June', 2016.0, 'Major Violent Crime', 781.0, '', 6.0, 4348.0, '']\n",
      "['07/01/2016 12:00:00 AM', 'July', 2016.0, 'Major Property Crime', 3354.0, '', 7.0, 20357.0, '']\n",
      "['07/01/2016 12:00:00 AM', 'July', 2016.0, 'Major Violent Crime', 766.0, '', 7.0, 5112.0, '']\n",
      "['08/01/2016 12:00:00 AM', 'August', 2016.0, 'Major Property Crime', 3704.0, '', 8.0, 24056.0, '']\n",
      "['08/01/2016 12:00:00 AM', 'August', 2016.0, 'Major Violent Crime', 904.0, '', 8.0, 6009.0, '']\n",
      "['09/01/2016 12:00:00 AM', 'September', 2016.0, 'Major Property Crime', 3323.0, '', 9.0, 27375.0, '']\n",
      "['09/01/2016 12:00:00 AM', 'September', 2016.0, 'Major Violent Crime', 792.0, '', 9.0, 6794.0, '']\n",
      "['10/01/2016 12:00:00 AM', 'October', 2016.0, 'Major Property Crime', 3369.0, '', 10.0, 30740.0, '']\n",
      "['10/01/2016 12:00:00 AM', 'October', 2016.0, 'Major Violent Crime', 845.0, '', 10.0, 7634.0, '']\n",
      "['11/01/2016 12:00:00 AM', 'November', 2016.0, 'Major Property Crime', 3242.0, '', 11.0, 33978.0, '']\n",
      "['11/01/2016 12:00:00 AM', 'November', 2016.0, 'Major Violent Crime', 706.0, '', 11.0, 8335.0, '']\n",
      "['12/01/2016 12:00:00 AM', 'December', 2016.0, 'Major Property Crime', 3205.0, '', 12.0, 37177.0, '']\n",
      "['12/01/2016 12:00:00 AM', 'December', 2016.0, 'Major Violent Crime', 746.0, '', 12.0, 9081.0, '']\n",
      "['01/01/2017 12:00:00 AM', 'January', 2017.0, 'Major Property Crime', 3308.0, 16.68, 1.0, 3308.0, 17.1]\n",
      "['01/01/2017 12:00:00 AM', 'January', 2017.0, 'Major Violent Crime', 844.0, 9.47, 1.0, 844.0, 9.9]\n",
      "['02/01/2017 12:00:00 AM', 'February', 2017.0, 'Major Property Crime', 2705.0, 18.07, 2.0, 6013.0, 17.56]\n",
      "['02/01/2017 12:00:00 AM', 'February', 2017.0, 'Major Violent Crime', 593.0, -3.89, 2.0, 1437.0, 3.98]\n",
      "['03/01/2017 12:00:00 AM', 'March', 2017.0, 'Major Property Crime', 3036.0, 17.45, 3.0, 9049.0, 17.64]\n",
      "['03/01/2017 12:00:00 AM', 'March', 2017.0, 'Major Violent Crime', 726.0, 5.68, 3.0, 2163.0, 4.59]\n",
      "['04/01/2017 12:00:00 AM', 'April', 2017.0, 'Major Property Crime', 3216.0, 9.95, 4.0, 12265.0, 15.54]\n",
      "['04/01/2017 12:00:00 AM', 'April', 2017.0, 'Major Violent Crime', 804.0, 16.18, 4.0, 2967.0, 7.58]\n",
      "['05/01/2017 12:00:00 AM', 'May', 2017.0, 'Major Property Crime', 3465.0, 3.99, 5.0, 15730.0, 12.83]\n",
      "['05/01/2017 12:00:00 AM', 'May', 2017.0, 'Major Violent Crime', 962.0, 18.04, 5.0, 3929.0, 10.06]\n",
      "['06/01/2017 12:00:00 AM', 'June', 2017.0, 'Major Property Crime', 3370.0, 9.92, 6.0, 19100.0, 12.33]\n",
      "['06/01/2017 12:00:00 AM', 'June', 2017.0, 'Major Violent Crime', 928.0, 18.82, 6.0, 4857.0, 11.71]\n",
      "['07/01/2017 12:00:00 AM', 'July', 2017.0, 'Major Property Crime', 3696.0, 10.2, 7.0, 22796.0, 11.98]\n",
      "['07/01/2017 12:00:00 AM', 'July', 2017.0, 'Major Violent Crime', 916.0, 19.58, 7.0, 5773.0, 12.93]\n",
      "['08/01/2017 12:00:00 AM', 'August', 2017.0, 'Major Property Crime', 3833.0, 3.48, 8.0, 26576.0, 10.48]\n",
      "['08/01/2017 12:00:00 AM', 'August', 2017.0, 'Major Violent Crime', 905.0, 0.11, 8.0, 6678.0, 11.13]\n",
      "['09/01/2017 12:00:00 AM', 'September', 2017.0, 'Major Property Crime', 3783.0, 13.84, 9.0, 30359.0, 10.9]\n",
      "['09/01/2017 12:00:00 AM', 'September', 2017.0, 'Major Violent Crime', 834.0, 5.3, 9.0, 7512.0, 10.57]\n",
      "['10/01/2017 12:00:00 AM', 'October', 2017.0, 'Major Property Crime', 3651.0, 8.37, 10.0, 34010.0, 10.64]\n",
      "['10/01/2017 12:00:00 AM', 'October', 2017.0, 'Major Violent Crime', 839.0, -0.71, 10.0, 8351.0, 9.39]\n",
      "['11/01/2017 12:00:00 AM', 'November', 2017.0, 'Major Property Crime', 3466.0, 6.91, 11.0, 37476.0, 10.29]\n",
      "['11/01/2017 12:00:00 AM', 'November', 2017.0, 'Major Violent Crime', 773.0, 9.49, 11.0, 9124.0, 9.47]\n",
      "['12/01/2017 12:00:00 AM', 'December', 2017.0, 'Major Property Crime', 3679.0, 14.79, 12.0, 41155.0, 10.7]\n",
      "['12/01/2017 12:00:00 AM', 'December', 2017.0, 'Major Violent Crime', 727.0, -2.55, 12.0, 9851.0, 8.48]\n",
      "['01/01/2018 12:00:00 AM', 'January', 2018.0, 'Major Property Crime', 3571.0, 7.95, 1.0, 3571.0, 7.95]\n",
      "['01/01/2018 12:00:00 AM', 'January', 2018.0, 'Major Violent Crime', 754.0, -10.66, 1.0, 754.0, -10.66]\n",
      "['02/01/2018 12:00:00 AM', 'February', 2018.0, 'Major Property Crime', 3000.0, 10.91, 2.0, 6571.0, 9.28]\n",
      "['02/01/2018 12:00:00 AM', 'February', 2018.0, 'Major Violent Crime', 575.0, -3.04, 2.0, 1329.0, -7.52]\n",
      "['03/01/2018 12:00:00 AM', 'March', 2018.0, 'Major Property Crime', 3026.0, -0.33, 3.0, 9597.0, 6.06]\n",
      "['03/01/2018 12:00:00 AM', 'March', 2018.0, 'Major Violent Crime', 695.0, -4.27, 3.0, 2024.0, -6.43]\n",
      "['04/01/2018 12:00:00 AM', 'April', 2018.0, 'Major Property Crime', 3311.0, 2.95, 4.0, 12908.0, 5.24]\n",
      "['04/01/2018 12:00:00 AM', 'April', 2018.0, 'Major Violent Crime', 712.0, -11.44, 4.0, 2736.0, -7.79]\n",
      "['05/01/2018 12:00:00 AM', 'May', 2018.0, 'Major Property Crime', 3750.0, 8.23, 5.0, 16658.0, 5.9]\n",
      "['05/01/2018 12:00:00 AM', 'May', 2018.0, 'Major Violent Crime', 853.0, -11.33, 5.0, 3589.0, -8.65]\n",
      "['06/01/2018 12:00:00 AM', 'June', 2018.0, 'Major Property Crime', 3655.0, 8.46, 6.0, 20313.0, 6.35]\n",
      "['06/01/2018 12:00:00 AM', 'June', 2018.0, 'Major Violent Crime', 873.0, -5.93, 6.0, 4462.0, -8.13]\n",
      "['07/01/2018 12:00:00 AM', 'July', 2018.0, 'Major Property Crime', 3875.0, 4.84, 7.0, 24188.0, 6.11]\n",
      "['07/01/2018 12:00:00 AM', 'July', 2018.0, 'Major Violent Crime', 942.0, 2.84, 7.0, 5404.0, -6.39]\n",
      "['08/01/2018 12:00:00 AM', 'August', 2018.0, 'Major Property Crime', 3749.0, -2.19, 8.0, 27937.0, 5.12]\n",
      "['08/01/2018 12:00:00 AM', 'August', 2018.0, 'Major Violent Crime', 828.0, -8.51, 8.0, 6232.0, -6.68]\n",
      "['09/01/2018 12:00:00 AM', 'September', 2018.0, 'Major Property Crime', 3681.0, -2.7, 9.0, 31618.0, 4.15]\n",
      "['09/01/2018 12:00:00 AM', 'September', 2018.0, 'Major Violent Crime', 877.0, 5.16, 9.0, 7109.0, -5.36]\n",
      "['10/01/2018 12:00:00 AM', 'October', 2018.0, 'Major Property Crime', 3669.0, 0.49, 10.0, 35287.0, 3.75]\n",
      "['10/01/2018 12:00:00 AM', 'October', 2018.0, 'Major Violent Crime', 791.0, -5.72, 10.0, 7900.0, -5.4]\n",
      "['11/01/2018 12:00:00 AM', 'November', 2018.0, 'Major Property Crime', 3266.0, -5.77, 11.0, 38553.0, 2.87]\n",
      "['11/01/2018 12:00:00 AM', 'November', 2018.0, 'Major Violent Crime', 677.0, -12.42, 11.0, 8577.0, -6.0]\n",
      "['12/01/2018 12:00:00 AM', 'December', 2018.0, 'Major Property Crime', 3456.0, -6.06, 12.0, 42009.0, 2.08]\n",
      "['12/01/2018 12:00:00 AM', 'December', 2018.0, 'Major Violent Crime', 714.0, -1.79, 12.0, 9291.0, -5.68]\n",
      "['01/01/2019 12:00:00 AM', 'January', 2019.0, 'Major Property Crime', 3254.0, -8.88, 1.0, 3254.0, -8.88]\n",
      "['01/01/2019 12:00:00 AM', 'January', 2019.0, 'Major Violent Crime', 725.0, -3.85, 1.0, 725.0, -3.85]\n",
      "['02/01/2019 12:00:00 AM', 'February', 2019.0, 'Major Property Crime', 2929.0, -2.37, 2.0, 6183.0, -5.9]\n",
      "['02/01/2019 12:00:00 AM', 'February', 2019.0, 'Major Violent Crime', 545.0, -5.22, 2.0, 1270.0, -4.44]\n",
      "['03/01/2019 12:00:00 AM', 'March', 2019.0, 'Major Property Crime', 2782.0, -8.06, 3.0, 8965.0, -6.59]\n",
      "['03/01/2019 12:00:00 AM', 'March', 2019.0, 'Major Violent Crime', 647.0, -6.91, 3.0, 1917.0, -5.29]\n",
      "['04/01/2019 12:00:00 AM', 'April', 2019.0, 'Major Property Crime', 3194.0, -3.53, 4.0, 12159.0, -5.8]\n",
      "['04/01/2019 12:00:00 AM', 'April', 2019.0, 'Major Violent Crime', 716.0, 0.56, 4.0, 2633.0, -3.76]\n",
      "['05/01/2019 12:00:00 AM', 'May', 2019.0, 'Major Property Crime', 3495.0, -6.8, 5.0, 15654.0, -6.03]\n",
      "['05/01/2019 12:00:00 AM', 'May', 2019.0, 'Major Violent Crime', 760.0, -10.9, 5.0, 3393.0, -5.46]\n",
      "['06/01/2019 12:00:00 AM', 'June', 2019.0, 'Major Property Crime', 3452.0, -5.55, 6.0, 19106.0, -5.94]\n",
      "['06/01/2019 12:00:00 AM', 'June', 2019.0, 'Major Violent Crime', 792.0, -9.28, 6.0, 4185.0, -6.21]\n"
     ]
    }
   ],
   "source": [
    "#Example:\n",
    "header, processed_data = clean_up(data)\n",
    "\n",
    "print('Header:', header)\n",
    "print('Processed Data:')\n",
    "for row in processed_data:\n",
    "    print(row)\n"
   ]
  },
  {
   "cell_type": "markdown",
   "metadata": {},
   "source": [
    "#### Question 3: Write a Python function that returns the number of crime occurrences given month, year and crime category."
   ]
  },
  {
   "cell_type": "code",
   "execution_count": 6,
   "metadata": {},
   "outputs": [],
   "source": [
    "def get_crime_count(data, month, year, crime_category):\n",
    "    for i in range(len(data)):  #Iterate through all rows  \n",
    "        if data[i][1] == month and data[i][2] == year and data[i][3] == crime_category:\n",
    "            crime_count = data[i][4] #Retrieve Crime Count from row i\n",
    "    return crime_count\n"
   ]
  },
  {
   "cell_type": "code",
   "execution_count": 7,
   "metadata": {},
   "outputs": [
    {
     "data": {
      "text/plain": [
       "4509.0"
      ]
     },
     "execution_count": 7,
     "metadata": {},
     "output_type": "execute_result"
    }
   ],
   "source": [
    "#Example:\n",
    "\n",
    "#['11/01/2006 12:00:00 AM', 'November', 2006.0, 'Major Property Crime', 4509.0, '', 11.0, 52377.0, '']\n",
    "get_crime_count(processed_data, 'November', 2006, 'Major Property Crime')\n"
   ]
  },
  {
   "cell_type": "markdown",
   "metadata": {},
   "source": [
    "#### Question 4: Write a Python function that returns the month that has the highest number of crime occurrences."
   ]
  },
  {
   "cell_type": "code",
   "execution_count": 8,
   "metadata": {},
   "outputs": [],
   "source": [
    "def get_highest_crime(data, year, crime_category):\n",
    "    rows = []\n",
    "    crime_counts = []\n",
    "    \n",
    "    for i in range(len(data)): #Iterate through all rows of dataset\n",
    "         if data[i][2] == year and data[i][3] == crime_category:\n",
    "                rows.append(data[i]) #creates new list consisting only of rows matching specified conditions\n",
    "                crime_count = data[i][4]\n",
    "                crime_counts.append(crime_count) \n",
    "                \n",
    "    for j in range(len(rows)): #Iterate through all rows of new list consisting only of rows matching specified conditions\n",
    "          if rows[j][4] == max(crime_counts):\n",
    "                month = rows[j][1]\n",
    "            \n",
    "    return month\n"
   ]
  },
  {
   "cell_type": "code",
   "execution_count": 9,
   "metadata": {},
   "outputs": [
    {
     "data": {
      "text/plain": [
       "'May'"
      ]
     },
     "execution_count": 9,
     "metadata": {},
     "output_type": "execute_result"
    }
   ],
   "source": [
    "#Example:\n",
    "get_highest_crime(processed_data, 2019, 'Major Property Crime')\n"
   ]
  },
  {
   "cell_type": "markdown",
   "metadata": {},
   "source": [
    "#### Question 5: Write a Python function that returns the two consecutive months of a given year with highest increase in crime during that year, in a given category."
   ]
  },
  {
   "cell_type": "code",
   "execution_count": 10,
   "metadata": {},
   "outputs": [],
   "source": [
    "def get_highest_two_month_increase(data, year, crime_category):\n",
    "    rows = []\n",
    "    increases_in_crime = []\n",
    "    \n",
    "    for i in range(len(data)): #Iterate through all rows of dataset\n",
    "        if data[i][2] == year and data[i][3] == crime_category:\n",
    "                rows.append(data[i]) \n",
    "         \n",
    "    for j in range(len(rows)): #Iterate through all rows of new list consisting only of rows matching specified conditions\n",
    "        if j >= 1:        \n",
    "            increase_in_crime = rows[j][4] - rows[j-1][4] \n",
    "            increases_in_crime.append(increase_in_crime)\n",
    "\n",
    "    index = increases_in_crime.index(max(increases_in_crime)) #Get index from increases_in_crime list\n",
    "    month1 = rows[index][1]\n",
    "    month2 = rows[index + 1][1]\n",
    "    \n",
    "    return month1, month2"
   ]
  },
  {
   "cell_type": "code",
   "execution_count": 11,
   "metadata": {},
   "outputs": [
    {
     "data": {
      "text/plain": [
       "('February', 'March')"
      ]
     },
     "execution_count": 11,
     "metadata": {},
     "output_type": "execute_result"
    }
   ],
   "source": [
    "#Example:\n",
    "get_highest_two_month_increase(processed_data, 2006, \"Major Violent Crime\")"
   ]
  },
  {
   "cell_type": "markdown",
   "metadata": {},
   "source": [
    "#### Question 6: Compare the crime annual rates in Memphis based on this dataset.  Is there anything unusual about this dataset?"
   ]
  },
  {
   "cell_type": "code",
   "execution_count": 15,
   "metadata": {},
   "outputs": [
    {
     "name": "stdout",
     "output_type": "stream",
     "text": [
      "August\n",
      "July\n",
      "August\n",
      "August\n",
      "August\n",
      "May\n",
      "July\n",
      "July\n",
      "May\n",
      "June\n"
     ]
    }
   ],
   "source": [
    "#Data is missing for years 2007 - 2015. \n",
    "#Crime appears to be most prevalent during summer months (May - August). \n",
    "print(get_highest_crime(processed_data, 2006, 'Major Property Crime'))\n",
    "print(get_highest_crime(processed_data, 2006, 'Major Violent Crime'))\n",
    "print(get_highest_crime(processed_data, 2016, 'Major Property Crime'))\n",
    "print(get_highest_crime(processed_data, 2016, 'Major Violent Crime'))\n",
    "print(get_highest_crime(processed_data, 2017, 'Major Property Crime'))\n",
    "print(get_highest_crime(processed_data, 2017, 'Major Violent Crime'))\n",
    "print(get_highest_crime(processed_data, 2018, 'Major Property Crime'))\n",
    "print(get_highest_crime(processed_data, 2018, 'Major Violent Crime'))\n",
    "print(get_highest_crime(processed_data, 2019, 'Major Property Crime'))\n",
    "print(get_highest_crime(processed_data, 2019, 'Major Violent Crime'))"
   ]
  },
  {
   "cell_type": "code",
   "execution_count": null,
   "metadata": {},
   "outputs": [],
   "source": []
  }
 ],
 "metadata": {
  "kernelspec": {
   "display_name": "Python 3",
   "language": "python",
   "name": "python3"
  },
  "language_info": {
   "codemirror_mode": {
    "name": "ipython",
    "version": 3
   },
   "file_extension": ".py",
   "mimetype": "text/x-python",
   "name": "python",
   "nbconvert_exporter": "python",
   "pygments_lexer": "ipython3",
   "version": "3.7.4"
  }
 },
 "nbformat": 4,
 "nbformat_minor": 2
}
